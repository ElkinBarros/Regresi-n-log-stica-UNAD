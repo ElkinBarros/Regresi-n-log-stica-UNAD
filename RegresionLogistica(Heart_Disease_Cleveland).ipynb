{
 "cells": [
  {
   "cell_type": "code",
   "execution_count": 1,
   "id": "567f8a93-848e-46f4-9bc5-295ca370fb1c",
   "metadata": {},
   "outputs": [],
   "source": [
    "#Cargar las librerias necesarias\n",
    "\n",
    "import pandas as pd # Manejo y análisis de estructuras de datos\n",
    "import numpy as np # Cálculo numérico y el análisis de datos\n",
    "import seaborn as sns # Creación gráficos estadísticos\n",
    "import matplotlib.pyplot as plt # Creación de gráficos en dos dimensiones\n",
    "\n",
    "# librerías de para implementar modelos de ciencia de datos\n",
    "from sklearn import metrics\n",
    "from sklearn.model_selection import train_test_split\n",
    "from sklearn.linear_model import LogisticRegression\n",
    "from sklearn.metrics import classification_report, confusion_matrix"
   ]
  },
  {
   "cell_type": "code",
   "execution_count": 2,
   "id": "913e5845-09f5-4573-b7ed-621e91b8ecde",
   "metadata": {},
   "outputs": [],
   "source": [
    "# Lectura de datos para cargue en variable\n",
    "\n",
    "Datos = pd.read_csv(\"Regresion_log_Heart/heart_cleveland_upload.csv\")"
   ]
  },
  {
   "cell_type": "code",
   "execution_count": 3,
   "id": "f95ed13a-ea13-4b08-be7e-c08fde4966f9",
   "metadata": {},
   "outputs": [
    {
     "data": {
      "text/html": [
       "<div>\n",
       "<style scoped>\n",
       "    .dataframe tbody tr th:only-of-type {\n",
       "        vertical-align: middle;\n",
       "    }\n",
       "\n",
       "    .dataframe tbody tr th {\n",
       "        vertical-align: top;\n",
       "    }\n",
       "\n",
       "    .dataframe thead th {\n",
       "        text-align: right;\n",
       "    }\n",
       "</style>\n",
       "<table border=\"1\" class=\"dataframe\">\n",
       "  <thead>\n",
       "    <tr style=\"text-align: right;\">\n",
       "      <th></th>\n",
       "      <th>age</th>\n",
       "      <th>sex</th>\n",
       "      <th>cp</th>\n",
       "      <th>trestbps</th>\n",
       "      <th>chol</th>\n",
       "      <th>fbs</th>\n",
       "      <th>restecg</th>\n",
       "      <th>thalach</th>\n",
       "      <th>exang</th>\n",
       "      <th>oldpeak</th>\n",
       "      <th>slope</th>\n",
       "      <th>ca</th>\n",
       "      <th>thal</th>\n",
       "      <th>condition</th>\n",
       "    </tr>\n",
       "  </thead>\n",
       "  <tbody>\n",
       "    <tr>\n",
       "      <th>0</th>\n",
       "      <td>69</td>\n",
       "      <td>1</td>\n",
       "      <td>0</td>\n",
       "      <td>160</td>\n",
       "      <td>234</td>\n",
       "      <td>1</td>\n",
       "      <td>2</td>\n",
       "      <td>131</td>\n",
       "      <td>0</td>\n",
       "      <td>0.1</td>\n",
       "      <td>1</td>\n",
       "      <td>1</td>\n",
       "      <td>0</td>\n",
       "      <td>0</td>\n",
       "    </tr>\n",
       "    <tr>\n",
       "      <th>1</th>\n",
       "      <td>69</td>\n",
       "      <td>0</td>\n",
       "      <td>0</td>\n",
       "      <td>140</td>\n",
       "      <td>239</td>\n",
       "      <td>0</td>\n",
       "      <td>0</td>\n",
       "      <td>151</td>\n",
       "      <td>0</td>\n",
       "      <td>1.8</td>\n",
       "      <td>0</td>\n",
       "      <td>2</td>\n",
       "      <td>0</td>\n",
       "      <td>0</td>\n",
       "    </tr>\n",
       "    <tr>\n",
       "      <th>2</th>\n",
       "      <td>66</td>\n",
       "      <td>0</td>\n",
       "      <td>0</td>\n",
       "      <td>150</td>\n",
       "      <td>226</td>\n",
       "      <td>0</td>\n",
       "      <td>0</td>\n",
       "      <td>114</td>\n",
       "      <td>0</td>\n",
       "      <td>2.6</td>\n",
       "      <td>2</td>\n",
       "      <td>0</td>\n",
       "      <td>0</td>\n",
       "      <td>0</td>\n",
       "    </tr>\n",
       "    <tr>\n",
       "      <th>3</th>\n",
       "      <td>65</td>\n",
       "      <td>1</td>\n",
       "      <td>0</td>\n",
       "      <td>138</td>\n",
       "      <td>282</td>\n",
       "      <td>1</td>\n",
       "      <td>2</td>\n",
       "      <td>174</td>\n",
       "      <td>0</td>\n",
       "      <td>1.4</td>\n",
       "      <td>1</td>\n",
       "      <td>1</td>\n",
       "      <td>0</td>\n",
       "      <td>1</td>\n",
       "    </tr>\n",
       "    <tr>\n",
       "      <th>4</th>\n",
       "      <td>64</td>\n",
       "      <td>1</td>\n",
       "      <td>0</td>\n",
       "      <td>110</td>\n",
       "      <td>211</td>\n",
       "      <td>0</td>\n",
       "      <td>2</td>\n",
       "      <td>144</td>\n",
       "      <td>1</td>\n",
       "      <td>1.8</td>\n",
       "      <td>1</td>\n",
       "      <td>0</td>\n",
       "      <td>0</td>\n",
       "      <td>0</td>\n",
       "    </tr>\n",
       "    <tr>\n",
       "      <th>5</th>\n",
       "      <td>64</td>\n",
       "      <td>1</td>\n",
       "      <td>0</td>\n",
       "      <td>170</td>\n",
       "      <td>227</td>\n",
       "      <td>0</td>\n",
       "      <td>2</td>\n",
       "      <td>155</td>\n",
       "      <td>0</td>\n",
       "      <td>0.6</td>\n",
       "      <td>1</td>\n",
       "      <td>0</td>\n",
       "      <td>2</td>\n",
       "      <td>0</td>\n",
       "    </tr>\n",
       "    <tr>\n",
       "      <th>6</th>\n",
       "      <td>63</td>\n",
       "      <td>1</td>\n",
       "      <td>0</td>\n",
       "      <td>145</td>\n",
       "      <td>233</td>\n",
       "      <td>1</td>\n",
       "      <td>2</td>\n",
       "      <td>150</td>\n",
       "      <td>0</td>\n",
       "      <td>2.3</td>\n",
       "      <td>2</td>\n",
       "      <td>0</td>\n",
       "      <td>1</td>\n",
       "      <td>0</td>\n",
       "    </tr>\n",
       "    <tr>\n",
       "      <th>7</th>\n",
       "      <td>61</td>\n",
       "      <td>1</td>\n",
       "      <td>0</td>\n",
       "      <td>134</td>\n",
       "      <td>234</td>\n",
       "      <td>0</td>\n",
       "      <td>0</td>\n",
       "      <td>145</td>\n",
       "      <td>0</td>\n",
       "      <td>2.6</td>\n",
       "      <td>1</td>\n",
       "      <td>2</td>\n",
       "      <td>0</td>\n",
       "      <td>1</td>\n",
       "    </tr>\n",
       "    <tr>\n",
       "      <th>8</th>\n",
       "      <td>60</td>\n",
       "      <td>0</td>\n",
       "      <td>0</td>\n",
       "      <td>150</td>\n",
       "      <td>240</td>\n",
       "      <td>0</td>\n",
       "      <td>0</td>\n",
       "      <td>171</td>\n",
       "      <td>0</td>\n",
       "      <td>0.9</td>\n",
       "      <td>0</td>\n",
       "      <td>0</td>\n",
       "      <td>0</td>\n",
       "      <td>0</td>\n",
       "    </tr>\n",
       "    <tr>\n",
       "      <th>9</th>\n",
       "      <td>59</td>\n",
       "      <td>1</td>\n",
       "      <td>0</td>\n",
       "      <td>178</td>\n",
       "      <td>270</td>\n",
       "      <td>0</td>\n",
       "      <td>2</td>\n",
       "      <td>145</td>\n",
       "      <td>0</td>\n",
       "      <td>4.2</td>\n",
       "      <td>2</td>\n",
       "      <td>0</td>\n",
       "      <td>2</td>\n",
       "      <td>0</td>\n",
       "    </tr>\n",
       "    <tr>\n",
       "      <th>10</th>\n",
       "      <td>59</td>\n",
       "      <td>1</td>\n",
       "      <td>0</td>\n",
       "      <td>170</td>\n",
       "      <td>288</td>\n",
       "      <td>0</td>\n",
       "      <td>2</td>\n",
       "      <td>159</td>\n",
       "      <td>0</td>\n",
       "      <td>0.2</td>\n",
       "      <td>1</td>\n",
       "      <td>0</td>\n",
       "      <td>2</td>\n",
       "      <td>1</td>\n",
       "    </tr>\n",
       "    <tr>\n",
       "      <th>11</th>\n",
       "      <td>59</td>\n",
       "      <td>1</td>\n",
       "      <td>0</td>\n",
       "      <td>160</td>\n",
       "      <td>273</td>\n",
       "      <td>0</td>\n",
       "      <td>2</td>\n",
       "      <td>125</td>\n",
       "      <td>0</td>\n",
       "      <td>0.0</td>\n",
       "      <td>0</td>\n",
       "      <td>0</td>\n",
       "      <td>0</td>\n",
       "      <td>1</td>\n",
       "    </tr>\n",
       "    <tr>\n",
       "      <th>12</th>\n",
       "      <td>59</td>\n",
       "      <td>1</td>\n",
       "      <td>0</td>\n",
       "      <td>134</td>\n",
       "      <td>204</td>\n",
       "      <td>0</td>\n",
       "      <td>0</td>\n",
       "      <td>162</td>\n",
       "      <td>0</td>\n",
       "      <td>0.8</td>\n",
       "      <td>0</td>\n",
       "      <td>2</td>\n",
       "      <td>0</td>\n",
       "      <td>1</td>\n",
       "    </tr>\n",
       "    <tr>\n",
       "      <th>13</th>\n",
       "      <td>58</td>\n",
       "      <td>0</td>\n",
       "      <td>0</td>\n",
       "      <td>150</td>\n",
       "      <td>283</td>\n",
       "      <td>1</td>\n",
       "      <td>2</td>\n",
       "      <td>162</td>\n",
       "      <td>0</td>\n",
       "      <td>1.0</td>\n",
       "      <td>0</td>\n",
       "      <td>0</td>\n",
       "      <td>0</td>\n",
       "      <td>0</td>\n",
       "    </tr>\n",
       "    <tr>\n",
       "      <th>14</th>\n",
       "      <td>56</td>\n",
       "      <td>1</td>\n",
       "      <td>0</td>\n",
       "      <td>120</td>\n",
       "      <td>193</td>\n",
       "      <td>0</td>\n",
       "      <td>2</td>\n",
       "      <td>162</td>\n",
       "      <td>0</td>\n",
       "      <td>1.9</td>\n",
       "      <td>1</td>\n",
       "      <td>0</td>\n",
       "      <td>2</td>\n",
       "      <td>0</td>\n",
       "    </tr>\n",
       "  </tbody>\n",
       "</table>\n",
       "</div>"
      ],
      "text/plain": [
       "    age  sex  cp  trestbps  chol  fbs  restecg  thalach  exang  oldpeak  \\\n",
       "0    69    1   0       160   234    1        2      131      0      0.1   \n",
       "1    69    0   0       140   239    0        0      151      0      1.8   \n",
       "2    66    0   0       150   226    0        0      114      0      2.6   \n",
       "3    65    1   0       138   282    1        2      174      0      1.4   \n",
       "4    64    1   0       110   211    0        2      144      1      1.8   \n",
       "5    64    1   0       170   227    0        2      155      0      0.6   \n",
       "6    63    1   0       145   233    1        2      150      0      2.3   \n",
       "7    61    1   0       134   234    0        0      145      0      2.6   \n",
       "8    60    0   0       150   240    0        0      171      0      0.9   \n",
       "9    59    1   0       178   270    0        2      145      0      4.2   \n",
       "10   59    1   0       170   288    0        2      159      0      0.2   \n",
       "11   59    1   0       160   273    0        2      125      0      0.0   \n",
       "12   59    1   0       134   204    0        0      162      0      0.8   \n",
       "13   58    0   0       150   283    1        2      162      0      1.0   \n",
       "14   56    1   0       120   193    0        2      162      0      1.9   \n",
       "\n",
       "    slope  ca  thal  condition  \n",
       "0       1   1     0          0  \n",
       "1       0   2     0          0  \n",
       "2       2   0     0          0  \n",
       "3       1   1     0          1  \n",
       "4       1   0     0          0  \n",
       "5       1   0     2          0  \n",
       "6       2   0     1          0  \n",
       "7       1   2     0          1  \n",
       "8       0   0     0          0  \n",
       "9       2   0     2          0  \n",
       "10      1   0     2          1  \n",
       "11      0   0     0          1  \n",
       "12      0   2     0          1  \n",
       "13      0   0     0          0  \n",
       "14      1   0     2          0  "
      ]
     },
     "execution_count": 3,
     "metadata": {},
     "output_type": "execute_result"
    }
   ],
   "source": [
    "# Lectura de datos para análisis exploratorio\n",
    "Datos.head(15)"
   ]
  },
  {
   "cell_type": "code",
   "execution_count": 4,
   "id": "e55d7519-0538-475f-a6cc-1bed2acfa922",
   "metadata": {},
   "outputs": [
    {
     "data": {
      "text/html": [
       "<div>\n",
       "<style scoped>\n",
       "    .dataframe tbody tr th:only-of-type {\n",
       "        vertical-align: middle;\n",
       "    }\n",
       "\n",
       "    .dataframe tbody tr th {\n",
       "        vertical-align: top;\n",
       "    }\n",
       "\n",
       "    .dataframe thead th {\n",
       "        text-align: right;\n",
       "    }\n",
       "</style>\n",
       "<table border=\"1\" class=\"dataframe\">\n",
       "  <thead>\n",
       "    <tr style=\"text-align: right;\">\n",
       "      <th></th>\n",
       "      <th>age</th>\n",
       "      <th>sex</th>\n",
       "      <th>cp</th>\n",
       "      <th>trestbps</th>\n",
       "      <th>chol</th>\n",
       "      <th>fbs</th>\n",
       "      <th>restecg</th>\n",
       "      <th>thalach</th>\n",
       "      <th>exang</th>\n",
       "      <th>oldpeak</th>\n",
       "      <th>slope</th>\n",
       "      <th>ca</th>\n",
       "      <th>thal</th>\n",
       "      <th>condition</th>\n",
       "    </tr>\n",
       "  </thead>\n",
       "  <tbody>\n",
       "    <tr>\n",
       "      <th>count</th>\n",
       "      <td>297.000000</td>\n",
       "      <td>297.000000</td>\n",
       "      <td>297.000000</td>\n",
       "      <td>297.000000</td>\n",
       "      <td>297.000000</td>\n",
       "      <td>297.000000</td>\n",
       "      <td>297.000000</td>\n",
       "      <td>297.000000</td>\n",
       "      <td>297.000000</td>\n",
       "      <td>297.000000</td>\n",
       "      <td>297.000000</td>\n",
       "      <td>297.000000</td>\n",
       "      <td>297.000000</td>\n",
       "      <td>297.000000</td>\n",
       "    </tr>\n",
       "    <tr>\n",
       "      <th>mean</th>\n",
       "      <td>54.542088</td>\n",
       "      <td>0.676768</td>\n",
       "      <td>2.158249</td>\n",
       "      <td>131.693603</td>\n",
       "      <td>247.350168</td>\n",
       "      <td>0.144781</td>\n",
       "      <td>0.996633</td>\n",
       "      <td>149.599327</td>\n",
       "      <td>0.326599</td>\n",
       "      <td>1.055556</td>\n",
       "      <td>0.602694</td>\n",
       "      <td>0.676768</td>\n",
       "      <td>0.835017</td>\n",
       "      <td>0.461279</td>\n",
       "    </tr>\n",
       "    <tr>\n",
       "      <th>std</th>\n",
       "      <td>9.049736</td>\n",
       "      <td>0.468500</td>\n",
       "      <td>0.964859</td>\n",
       "      <td>17.762806</td>\n",
       "      <td>51.997583</td>\n",
       "      <td>0.352474</td>\n",
       "      <td>0.994914</td>\n",
       "      <td>22.941562</td>\n",
       "      <td>0.469761</td>\n",
       "      <td>1.166123</td>\n",
       "      <td>0.618187</td>\n",
       "      <td>0.938965</td>\n",
       "      <td>0.956690</td>\n",
       "      <td>0.499340</td>\n",
       "    </tr>\n",
       "    <tr>\n",
       "      <th>min</th>\n",
       "      <td>29.000000</td>\n",
       "      <td>0.000000</td>\n",
       "      <td>0.000000</td>\n",
       "      <td>94.000000</td>\n",
       "      <td>126.000000</td>\n",
       "      <td>0.000000</td>\n",
       "      <td>0.000000</td>\n",
       "      <td>71.000000</td>\n",
       "      <td>0.000000</td>\n",
       "      <td>0.000000</td>\n",
       "      <td>0.000000</td>\n",
       "      <td>0.000000</td>\n",
       "      <td>0.000000</td>\n",
       "      <td>0.000000</td>\n",
       "    </tr>\n",
       "    <tr>\n",
       "      <th>25%</th>\n",
       "      <td>48.000000</td>\n",
       "      <td>0.000000</td>\n",
       "      <td>2.000000</td>\n",
       "      <td>120.000000</td>\n",
       "      <td>211.000000</td>\n",
       "      <td>0.000000</td>\n",
       "      <td>0.000000</td>\n",
       "      <td>133.000000</td>\n",
       "      <td>0.000000</td>\n",
       "      <td>0.000000</td>\n",
       "      <td>0.000000</td>\n",
       "      <td>0.000000</td>\n",
       "      <td>0.000000</td>\n",
       "      <td>0.000000</td>\n",
       "    </tr>\n",
       "    <tr>\n",
       "      <th>50%</th>\n",
       "      <td>56.000000</td>\n",
       "      <td>1.000000</td>\n",
       "      <td>2.000000</td>\n",
       "      <td>130.000000</td>\n",
       "      <td>243.000000</td>\n",
       "      <td>0.000000</td>\n",
       "      <td>1.000000</td>\n",
       "      <td>153.000000</td>\n",
       "      <td>0.000000</td>\n",
       "      <td>0.800000</td>\n",
       "      <td>1.000000</td>\n",
       "      <td>0.000000</td>\n",
       "      <td>0.000000</td>\n",
       "      <td>0.000000</td>\n",
       "    </tr>\n",
       "    <tr>\n",
       "      <th>75%</th>\n",
       "      <td>61.000000</td>\n",
       "      <td>1.000000</td>\n",
       "      <td>3.000000</td>\n",
       "      <td>140.000000</td>\n",
       "      <td>276.000000</td>\n",
       "      <td>0.000000</td>\n",
       "      <td>2.000000</td>\n",
       "      <td>166.000000</td>\n",
       "      <td>1.000000</td>\n",
       "      <td>1.600000</td>\n",
       "      <td>1.000000</td>\n",
       "      <td>1.000000</td>\n",
       "      <td>2.000000</td>\n",
       "      <td>1.000000</td>\n",
       "    </tr>\n",
       "    <tr>\n",
       "      <th>max</th>\n",
       "      <td>77.000000</td>\n",
       "      <td>1.000000</td>\n",
       "      <td>3.000000</td>\n",
       "      <td>200.000000</td>\n",
       "      <td>564.000000</td>\n",
       "      <td>1.000000</td>\n",
       "      <td>2.000000</td>\n",
       "      <td>202.000000</td>\n",
       "      <td>1.000000</td>\n",
       "      <td>6.200000</td>\n",
       "      <td>2.000000</td>\n",
       "      <td>3.000000</td>\n",
       "      <td>2.000000</td>\n",
       "      <td>1.000000</td>\n",
       "    </tr>\n",
       "  </tbody>\n",
       "</table>\n",
       "</div>"
      ],
      "text/plain": [
       "              age         sex          cp    trestbps        chol         fbs  \\\n",
       "count  297.000000  297.000000  297.000000  297.000000  297.000000  297.000000   \n",
       "mean    54.542088    0.676768    2.158249  131.693603  247.350168    0.144781   \n",
       "std      9.049736    0.468500    0.964859   17.762806   51.997583    0.352474   \n",
       "min     29.000000    0.000000    0.000000   94.000000  126.000000    0.000000   \n",
       "25%     48.000000    0.000000    2.000000  120.000000  211.000000    0.000000   \n",
       "50%     56.000000    1.000000    2.000000  130.000000  243.000000    0.000000   \n",
       "75%     61.000000    1.000000    3.000000  140.000000  276.000000    0.000000   \n",
       "max     77.000000    1.000000    3.000000  200.000000  564.000000    1.000000   \n",
       "\n",
       "          restecg     thalach       exang     oldpeak       slope          ca  \\\n",
       "count  297.000000  297.000000  297.000000  297.000000  297.000000  297.000000   \n",
       "mean     0.996633  149.599327    0.326599    1.055556    0.602694    0.676768   \n",
       "std      0.994914   22.941562    0.469761    1.166123    0.618187    0.938965   \n",
       "min      0.000000   71.000000    0.000000    0.000000    0.000000    0.000000   \n",
       "25%      0.000000  133.000000    0.000000    0.000000    0.000000    0.000000   \n",
       "50%      1.000000  153.000000    0.000000    0.800000    1.000000    0.000000   \n",
       "75%      2.000000  166.000000    1.000000    1.600000    1.000000    1.000000   \n",
       "max      2.000000  202.000000    1.000000    6.200000    2.000000    3.000000   \n",
       "\n",
       "             thal   condition  \n",
       "count  297.000000  297.000000  \n",
       "mean     0.835017    0.461279  \n",
       "std      0.956690    0.499340  \n",
       "min      0.000000    0.000000  \n",
       "25%      0.000000    0.000000  \n",
       "50%      0.000000    0.000000  \n",
       "75%      2.000000    1.000000  \n",
       "max      2.000000    1.000000  "
      ]
     },
     "execution_count": 4,
     "metadata": {},
     "output_type": "execute_result"
    }
   ],
   "source": [
    "# Descripción de los datos\n",
    "\n",
    "Datos.describe()"
   ]
  },
  {
   "cell_type": "code",
   "execution_count": 5,
   "id": "6e0fbb0f-1f37-46f2-9627-d8698548c0a0",
   "metadata": {},
   "outputs": [
    {
     "data": {
      "text/plain": [
       "Text(0.5, 1.0, 'Datos faltantes y atípicos (Niveles de colesterol)')"
      ]
     },
     "execution_count": 5,
     "metadata": {},
     "output_type": "execute_result"
    },
    {
     "data": {
      "image/png": "[encoded data removed]",
      "text/plain": [
       "<Figure size 600x300 with 1 Axes>"
      ]
     },
     "metadata": {},
     "output_type": "display_data"
    }
   ],
   "source": [
    "# Identificación datos faltante y atípicos a partír de variable de niveles de colesterol\n",
    "# según niveles entre 200 a 239 se consideran elevados.\n",
    "\n",
    "plt.figure(figsize=(6,3))\n",
    "sns.boxplot(x=Datos['chol'])\n",
    "plt.title('Datos faltantes y atípicos (Niveles de colesterol)', fontsize=10)"
   ]
  },
  {
   "cell_type": "code",
   "execution_count": 6,
   "id": "518411b1-7200-4c09-9dd1-049bb3dfe1de",
   "metadata": {
    "scrolled": true
   },
   "outputs": [
    {
     "data": {
      "text/plain": [
       "Text(0.5, 1.0, 'Datos faltantes y atípicos (Edad)')"
      ]
     },
     "execution_count": 6,
     "metadata": {},
     "output_type": "execute_result"
    },
    {
     "data": {
      "image/png": "[encoded data removed]",
      "text/plain": [
       "<Figure size 600x300 with 1 Axes>"
      ]
     },
     "metadata": {},
     "output_type": "display_data"
    }
   ],
   "source": [
    "# Identificación datos faltante y atípicos a partír de variable de edad.\n",
    "\n",
    "plt.figure(figsize=(6,3))\n",
    "sns.boxplot(x=Datos['age'])\n",
    "plt.title('Datos faltantes y atípicos (Edad)', fontsize=10)"
   ]
  },
  {
   "cell_type": "code",
   "execution_count": 7,
   "id": "e5522a2e-d0d3-4f09-b9ae-c8b093ca49dc",
   "metadata": {},
   "outputs": [
    {
     "data": {
      "text/plain": [
       "Text(0.5, 1.0, 'Datos faltantes y atípicos (Frecuencia cardiaca)')"
      ]
     },
     "execution_count": 7,
     "metadata": {},
     "output_type": "execute_result"
    },
    {
     "data": {
      "image/png": "[encoded data removed]",
      "text/plain": [
       "<Figure size 600x300 with 1 Axes>"
      ]
     },
     "metadata": {},
     "output_type": "display_data"
    }
   ],
   "source": [
    "# Identificación datos faltante y atípicos a partír de variable de Frecuencia cardiaca.\n",
    " \n",
    "plt.figure(figsize=(6,3))\n",
    "sns.boxplot(x=Datos['thalach'])\n",
    "plt.title('Datos faltantes y atípicos (Frecuencia cardiaca)', fontsize=10)"
   ]
  },
  {
   "cell_type": "code",
   "execution_count": 8,
   "id": "6cb6361a-c86b-42ed-bd67-3f9c39c476b0",
   "metadata": {},
   "outputs": [
    {
     "data": {
      "text/plain": [
       "Text(0.5, 1.0, 'Datos faltantes y atípicos (Tipo de dolor)')"
      ]
     },
     "execution_count": 8,
     "metadata": {},
     "output_type": "execute_result"
    },
    {
     "data": {
      "image/png": "[encoded data removed]",
      "text/plain": [
       "<Figure size 600x300 with 1 Axes>"
      ]
     },
     "metadata": {},
     "output_type": "display_data"
    }
   ],
   "source": [
    "# Identificación datos faltante y atípicos a partír de variable de tipo de dolor de pecho\n",
    "# Esta categorizado por 4 tipos (0. Angina típica, 1. Angina atípica, 2. Dolor no anginal, 3. Asintomático)\n",
    "\n",
    "plt.figure(figsize=(6,3))\n",
    "sns.boxplot(x=Datos['cp'])\n",
    "plt.title('Datos faltantes y atípicos (Tipo de dolor)', fontsize=10)"
   ]
  },
  {
   "cell_type": "code",
   "execution_count": 9,
   "id": "6b01ad96-f7bd-4181-b9e3-ba8fb501dec3",
   "metadata": {},
   "outputs": [
    {
     "data": {
      "text/plain": [
       "Text(0.5, 1.0, 'Datos faltantes y atípicos (Presión arterial en reposo)')"
      ]
     },
     "execution_count": 9,
     "metadata": {},
     "output_type": "execute_result"
    },
    {
     "data": {
      "image/png": "[encoded data removed]",
      "text/plain": [
       "<Figure size 600x300 with 1 Axes>"
      ]
     },
     "metadata": {},
     "output_type": "display_data"
    }
   ],
   "source": [
    "# Identificación datos faltante y atípicos a partír de variable de Presión arterial en reposo\n",
    "# Presión arterial óptima: menor a 120/80 mm Hg\n",
    "# Presión arterial normal: entre 120-129/80-84 mm Hg\n",
    "# Presión arterial normal alta: entre 130-139/85-89 mm Hg\n",
    "# Hipertensión arterial: mayor a 140/90 mm Hg\n",
    "\n",
    "plt.figure(figsize=(6,3))\n",
    "sns.boxplot(x=Datos['trestbps'])\n",
    "plt.title('Datos faltantes y atípicos (Presión arterial en reposo)', fontsize=10)"
   ]
  },
  {
   "cell_type": "code",
   "execution_count": 10,
   "id": "61cb68c3-86e6-4a2b-afa7-0ad986f9dc3f",
   "metadata": {},
   "outputs": [
    {
     "data": {
      "text/plain": [
       "Text(0.5, 1.0, 'Datos faltantes y atípicos (Depresión del segmento ST)')"
      ]
     },
     "execution_count": 10,
     "metadata": {},
     "output_type": "execute_result"
    },
    {
     "data": {
      "image/png": "[encoded data removed]",
      "text/plain": [
       "<Figure size 600x300 with 1 Axes>"
      ]
     },
     "metadata": {},
     "output_type": "display_data"
    }
   ],
   "source": [
    "# Identificación datos faltante y atípicos a partír de variable de Depresión del segmento ST\n",
    "# Es el hallazgo característico asociado con la isquemia inducida por el ejercicio y la demanda \n",
    "# en pacientes con obstrucción coronaria significativa pero sin limitación de flujo en reposo.\n",
    "# Puede indicar isquemia cardíaca en presencia de síntomas cardíacos activos.\n",
    "# La isquemia miocárdica ocurre cuando se reduce el flujo sanguíneo por una o más de las arterias coronarias.\n",
    "# Se clasifica:\n",
    "# < 1 mm\tPuede ser inespecífica, especialmente si es ascendente.\n",
    "# 1-2 mm\tPosible isquemia inducida por ejercicio.\n",
    "# 2-3 mm\tIsquemia moderada a severa.\n",
    "# ≥ 3 mm\tIsquemia grave, alto riesgo de eventos coronarios.\n",
    "# ≥ 4 mm\tIsquemia miocárdica crítica, muy preocupante.\n",
    "\n",
    "\n",
    "plt.figure(figsize=(6,3))\n",
    "sns.boxplot(x=Datos['oldpeak'])\n",
    "plt.title('Datos faltantes y atípicos (Depresión del segmento ST)', fontsize=10)"
   ]
  },
  {
   "cell_type": "code",
   "execution_count": 11,
   "id": "95e4f5eb-c663-482e-8977-ddf3a2b4575e",
   "metadata": {},
   "outputs": [
    {
     "name": "stdout",
     "output_type": "stream",
     "text": [
      "Cantidad de valores con cero en niveles de colesterol 0\n",
      "Cantidad de valores con cero en edad 0\n",
      "Cantidad de valores con cero en niveles de frecuencia cardiaca 0\n",
      "Cantidad de valores con cero en tipo de dolor 23\n",
      "Cantidad de valores con cero en niveles de presión arterial 0\n"
     ]
    }
   ],
   "source": [
    "# Procesamiento de datos con limpieza, tratamiento de valores faltantes y transformación a necesidad.\n",
    "\n",
    "# 2. Revisión de datos faltantes, se esta indicando en esta sección si es sistema encuentra valores cero en las variables seleccionadas ###############\n",
    "\n",
    "print (\"Cantidad de valores con cero en niveles de colesterol\",Datos['chol'].isin([0]).sum())\n",
    "print (\"Cantidad de valores con cero en edad\",Datos['age'].isin([0]).sum())\n",
    "print (\"Cantidad de valores con cero en niveles de frecuencia cardiaca\",Datos['thalach'].isin([0]).sum())\n",
    "print (\"Cantidad de valores con cero en tipo de dolor\",Datos['cp'].isin([0]).sum())\n",
    "print (\"Cantidad de valores con cero en niveles de presión arterial\",Datos['trestbps'].isin([0]).sum())"
   ]
  },
  {
   "cell_type": "code",
   "execution_count": 12,
   "id": "c3c58a55-bda6-4ad2-8637-4e075f323909",
   "metadata": {},
   "outputs": [],
   "source": [
    "# Reemplazo de todos los ceros con el valor medio (Promedio) de la columna.\n",
    "# Aplicación de inputación en datos.\n",
    "\n",
    "Datos['chol']=Datos['chol'].replace(0,Datos['chol'].mean())\n",
    "Datos['age']=Datos['age'].replace(0,Datos['age'].mean())\n",
    "Datos['thalach']=Datos['thalach'].replace(0,Datos['thalach'].mean())\n",
    "Datos['cp']=Datos['cp'].replace(0,Datos['cp'].mean())\n",
    "Datos['trestbps']=Datos['trestbps'].replace(0,Datos['trestbps'].mean())"
   ]
  },
  {
   "cell_type": "code",
   "execution_count": 13,
   "id": "aaff29c3-1b5b-42eb-ba02-2abbde6cd1b7",
   "metadata": {},
   "outputs": [
    {
     "name": "stdout",
     "output_type": "stream",
     "text": [
      "Cantidad de valores con cero en niveles de colesterol 0\n",
      "Cantidad de valores con cero en edad 0\n",
      "Cantidad de valores con cero en niveles de frecuencia cardiaca 0\n",
      "Cantidad de valores con cero en tipo de dolor 0\n",
      "Cantidad de valores con cero en niveles de presión arterial 0\n"
     ]
    }
   ],
   "source": [
    "# Revisión provisional datos faltantes\n",
    "\n",
    "print (\"Cantidad de valores con cero en niveles de colesterol\",Datos['chol'].isin([0]).sum())\n",
    "print (\"Cantidad de valores con cero en edad\",Datos['age'].isin([0]).sum())\n",
    "print (\"Cantidad de valores con cero en niveles de frecuencia cardiaca\",Datos['thalach'].isin([0]).sum())\n",
    "print (\"Cantidad de valores con cero en tipo de dolor\",Datos['cp'].isin([0]).sum())\n",
    "print (\"Cantidad de valores con cero en niveles de presión arterial\",Datos['trestbps'].isin([0]).sum())"
   ]
  },
  {
   "cell_type": "code",
   "execution_count": 14,
   "id": "7126fcbd-9ce5-42ac-9dfd-b64bab7fbb66",
   "metadata": {},
   "outputs": [
    {
     "data": {
      "text/plain": [
       "Text(0.5, 1.0, 'Datos faltantes y atípicos (Niveles de colesterol)')"
      ]
     },
     "execution_count": 14,
     "metadata": {},
     "output_type": "execute_result"
    },
    {
     "data": {
      "image/png": "[encoded data removed]",
      "text/plain": [
       "<Figure size 600x300 with 1 Axes>"
      ]
     },
     "metadata": {},
     "output_type": "display_data"
    }
   ],
   "source": [
    "# Identificación datos faltante y atípicos a partír de variable de niveles de colesterol\n",
    "# según niveles entre 200 a 239 se consideran elevados.\n",
    "\n",
    "plt.figure(figsize=(6,3))\n",
    "sns.boxplot(x=Datos['chol'])\n",
    "plt.title('Datos faltantes y atípicos (Niveles de colesterol)', fontsize=10)"
   ]
  },
  {
   "cell_type": "code",
   "execution_count": 15,
   "id": "5a4f46f8-c56d-472a-bf7c-7e11966e2b37",
   "metadata": {},
   "outputs": [
    {
     "name": "stdout",
     "output_type": "stream",
     "text": [
      "El total de datos atípicos en colesterol es: 49\n"
     ]
    }
   ],
   "source": [
    "#Conteo de datos atípicos colesterol\n",
    "\n",
    "nivel_minimo=200\n",
    "nivel_maximo=500\n",
    "Total_Atipicos=((Datos['chol']<nivel_minimo)|(Datos['chol']>nivel_maximo)).sum()\n",
    "print(\"El total de datos atípicos en colesterol es: {}\".format(Total_Atipicos))"
   ]
  },
  {
   "cell_type": "code",
   "execution_count": 16,
   "id": "8bd09864-9fb5-4584-8075-37275a3e592f",
   "metadata": {},
   "outputs": [],
   "source": []
  },
  {
   "cell_type": "code",
   "execution_count": 17,
   "id": "e347e7ee-8e2f-43b9-a8dc-6fc072c1763e",
   "metadata": {},
   "outputs": [
    {
     "name": "stdout",
     "output_type": "stream",
     "text": [
      "El total de los datos atípicos de colesterol es: 0\n"
     ]
    }
   ],
   "source": []
  },
  {
   "cell_type": "code",
   "execution_count": 18,
   "id": "779be923-2f73-4f47-9a3a-a3441ea3bb0c",
   "metadata": {},
   "outputs": [
    {
     "data": {
      "text/plain": [
       "Text(0.5, 1.0, 'Datos faltantes y atípicos (Frecuencia cardiaca)')"
      ]
     },
     "execution_count": 18,
     "metadata": {},
     "output_type": "execute_result"
    },
    {
     "data": {
      "image/png": "[encoded data removed]",
      "text/plain": [
       "<Figure size 600x300 with 1 Axes>"
      ]
     },
     "metadata": {},
     "output_type": "display_data"
    }
   ],
   "source": [
    "# Identificación datos faltante y atípicos a partír de variable de Frecuencia cardiaca máxima.\n",
    "\n",
    "plt.figure(figsize=(6,3))\n",
    "sns.boxplot(x=Datos['thalach'])\n",
    "plt.title('Datos faltantes y atípicos (Frecuencia cardiaca)', fontsize=10)"
   ]
  },
  {
   "cell_type": "code",
   "execution_count": 19,
   "id": "8eb14ebf-d318-408e-83c7-859692d5305e",
   "metadata": {},
   "outputs": [
    {
     "name": "stdout",
     "output_type": "stream",
     "text": [
      "El total de datos atípicos en Frecuencia cardiaca es: 80\n"
     ]
    }
   ],
   "source": [
    "#Conteo de datos atípicos Frecuencia cardiaca, se estiman lo siguientes rangos según las edades estimadas en el dataset:\n",
    "#40 años → 180 lpm\n",
    "#50 años → 170 lpm\n",
    "#60 años → 160 lpm\n",
    "#70 años → 150 lpm\n",
    "\n",
    "\n",
    "nivel_minimo=140\n",
    "nivel_maximo=180\n",
    "Total_Atipicos=((Datos['thalach']<nivel_minimo)|(Datos['thalach']>nivel_maximo)).sum()\n",
    "print(\"El total de datos atípicos en Frecuencia cardiaca es: {}\".format(Total_Atipicos))"
   ]
  },
  {
   "cell_type": "code",
   "execution_count": 20,
   "id": "a6c5501d-1481-4cc0-8557-877c4c77fd91",
   "metadata": {},
   "outputs": [
    {
     "data": {
      "text/plain": [
       "Text(0.5, 1.0, 'Identificación datos atípicos')"
      ]
     },
     "execution_count": 20,
     "metadata": {},
     "output_type": "execute_result"
    },
    {
     "data": {
      "image/png": "[encoded data removed]",
      "text/plain": [
       "<Figure size 600x300 with 1 Axes>"
      ]
     },
     "metadata": {},
     "output_type": "display_data"
    }
   ],
   "source": [
    "#Identificación de valores atípicos\n",
    "# Presión arterial\n",
    "\n",
    "# Presión arterial óptima: menor a 120/80 mm Hg\n",
    "# Presión arterial normal: entre 120-129/80-84 mm Hg\n",
    "# Presión arterial normal alta: entre 130-139/85-89 mm Hg\n",
    "# Hipertensión arterial: mayor a 140/90 mm Hg\n",
    "\n",
    "plt.figure(figsize=(6,3))\n",
    "sns.boxplot(x=Datos['trestbps'])\n",
    "plt.title('Identificación datos atípicos', fontsize=10)"
   ]
  },
  {
   "cell_type": "code",
   "execution_count": 21,
   "id": "be16a50b-40a5-4d2c-97b9-bf249e253ec1",
   "metadata": {},
   "outputs": [
    {
     "name": "stdout",
     "output_type": "stream",
     "text": [
      "El total de datos atípicos en presión arterial es: 46\n"
     ]
    }
   ],
   "source": [
    "#Conteo de datos atípicos presión arterial\n",
    "\n",
    "nivel_minimo=120\n",
    "nivel_maximo=200\n",
    "Total_Atipicos=((Datos['trestbps']<nivel_minimo)|(Datos['trestbps']>nivel_maximo)).sum()\n",
    "print(\"El total de datos atípicos en presión arterial es: {}\".format(Total_Atipicos))"
   ]
  },
  {
   "cell_type": "code",
   "execution_count": 22,
   "id": "5dd65657-df93-475e-bdba-a38ff4c4e7a4",
   "metadata": {
    "scrolled": true
   },
   "outputs": [
    {
     "data": {
      "text/plain": [
       "Text(0.5, 1.0, 'Datos faltantes y atípicos (Depresión del segmento ST)')"
      ]
     },
     "execution_count": 22,
     "metadata": {},
     "output_type": "execute_result"
    },
    {
     "data": {
      "image/png": "[encoded data removed]",
      "text/plain": [
       "<Figure size 600x300 with 1 Axes>"
      ]
     },
     "metadata": {},
     "output_type": "display_data"
    }
   ],
   "source": [
    "# Identificación datos faltante y atípicos a partír de variable de Depresión del segmento ST\n",
    "# Es el hallazgo característico asociado con la isquemia inducida por el ejercicio y la demanda \n",
    "# en pacientes con obstrucción coronaria significativa pero sin limitación de flujo en reposo.\n",
    "# Puede indicar isquemia cardíaca en presencia de síntomas cardíacos activos.\n",
    "# La isquemia miocárdica ocurre cuando se reduce el flujo sanguíneo por una o más de las arterias coronarias.\n",
    "# Se clasifica:\n",
    "# < 1 mm\tPuede ser inespecífica, especialmente si es ascendente.\n",
    "# 1-2 mm\tPosible isquemia inducida por ejercicio.\n",
    "# 2-3 mm\tIsquemia moderada a severa.\n",
    "# ≥ 3 mm\tIsquemia grave, alto riesgo de eventos coronarios.\n",
    "# ≥ 4 mm\tIsquemia miocárdica crítica, muy preocupante.\n",
    "\n",
    "\n",
    "plt.figure(figsize=(6,3))\n",
    "sns.boxplot(x=Datos['oldpeak'])\n",
    "plt.title('Datos faltantes y atípicos (Depresión del segmento ST)', fontsize=10)"
   ]
  },
  {
   "cell_type": "code",
   "execution_count": 23,
   "id": "29a8f92d-c748-4395-8689-924a6058e202",
   "metadata": {},
   "outputs": [
    {
     "name": "stdout",
     "output_type": "stream",
     "text": [
      "El total de datos atípicos en Frecuencia cardiaca es: 247\n"
     ]
    }
   ],
   "source": [
    "# Conteo de datos atípicos Depresión del segmento ST\n",
    "\n",
    "nivel_minimo=0\n",
    "nivel_maximo=6\n",
    "Total_Atipicos=((Datos['thalach']<nivel_minimo)|(Datos['thalach']>nivel_maximo)).sum()\n",
    "print(\"El total de datos atípicos en Frecuencia cardiaca es: {}\".format(Total_Atipicos))"
   ]
  },
  {
   "cell_type": "code",
   "execution_count": null,
   "id": "9ce1055c-158e-4586-98e4-42f4cc5e203b",
   "metadata": {},
   "outputs": [],
   "source": [
    "# Filtración datos atípicos\n",
    "\n",
    "Datos=Datos[(Datos['chol']<nivel_maximo)&(Datos['chol']>nivel_minimo)]"
   ]
  },
  {
   "cell_type": "code",
   "execution_count": null,
   "id": "2c2f8f38-9778-4881-853d-564efd84e5b2",
   "metadata": {
    "scrolled": true
   },
   "outputs": [],
   "source": [
    "# Filtra datos atípicos\n",
    "\n",
    "Total_Atipicos=((Datos['chol']<nivel_minimo)|(Datos['chol']>nivel_maximo)).sum()\n",
    "print(\"El total de los datos atípicos de colesterol es: {}\".format(Total_Atipicos)) "
   ]
  },
  {
   "cell_type": "code",
   "execution_count": 24,
   "id": "899c1a1c-8ca5-4b14-a52e-04b706652149",
   "metadata": {},
   "outputs": [],
   "source": [
    "Datos=Datos[(Datos['thalach']<nivel_maximo)&(Datos['thalach']>nivel_minimo)]"
   ]
  },
  {
   "cell_type": "code",
   "execution_count": 25,
   "id": "2f9276bd-29f5-4ad5-874f-d828b747b7e3",
   "metadata": {},
   "outputs": [
    {
     "name": "stdout",
     "output_type": "stream",
     "text": [
      "El total de los datos atípicos en frecuencia cardiaca es: 0\n"
     ]
    }
   ],
   "source": [
    "# Validación remoción datos atípicos\n",
    "\n",
    "Total_Atipicos=((Datos['thalach']<nivel_minimo)|(Datos['thalach']>nivel_maximo)).sum()\n",
    "print(\"El total de los datos atípicos en frecuencia cardiaca es: {}\".format(Total_Atipicos)) "
   ]
  },
  {
   "cell_type": "code",
   "execution_count": 26,
   "id": "bcd85fa8-2a91-40fc-b5c2-b67ce720435e",
   "metadata": {},
   "outputs": [],
   "source": [
    "Datos=Datos[(Datos['trestbps']<nivel_maximo)&(Datos['trestbps']>nivel_minimo)]"
   ]
  },
  {
   "cell_type": "code",
   "execution_count": 27,
   "id": "e3d1543d-82a6-4267-82af-201801c49448",
   "metadata": {},
   "outputs": [
    {
     "name": "stdout",
     "output_type": "stream",
     "text": [
      "El total de los datos atípicos en presión arterial es: 0\n"
     ]
    }
   ],
   "source": [
    "Total_Atipicos=((Datos['trestbps']<nivel_minimo)|(Datos['trestbps']>nivel_maximo)).sum()\n",
    "print(\"El total de los datos atípicos en presión arterial es: {}\".format(Total_Atipicos)) "
   ]
  },
  {
   "cell_type": "code",
   "execution_count": 28,
   "id": "32abbd37-925b-447a-a509-0e32c0b52624",
   "metadata": {},
   "outputs": [],
   "source": [
    "Datos=Datos[(Datos['oldpeak']<nivel_maximo)&(Datos['oldpeak']>nivel_minimo)]"
   ]
  },
  {
   "cell_type": "code",
   "execution_count": 29,
   "id": "a439f6ef-802d-4484-8f7b-a72707f4d1fa",
   "metadata": {},
   "outputs": [
    {
     "name": "stdout",
     "output_type": "stream",
     "text": [
      "El total de los datos atípicos en segmento ST es: 0\n"
     ]
    }
   ],
   "source": [
    "Total_Atipicos=((Datos['oldpeak']<nivel_minimo)|(Datos['oldpeak']>nivel_maximo)).sum()\n",
    "print(\"El total de los datos atípicos en segmento ST es: {}\".format(Total_Atipicos)) \n"
   ]
  },
  {
   "cell_type": "code",
   "execution_count": 30,
   "id": "d34d478d-4d69-4edf-bc0f-3cb4e2e7708f",
   "metadata": {},
   "outputs": [
    {
     "name": "stdout",
     "output_type": "stream",
     "text": [
      "<class 'pandas.core.frame.DataFrame'>\n",
      "Index: 0 entries\n",
      "Data columns (total 14 columns):\n",
      " #   Column     Non-Null Count  Dtype  \n",
      "---  ------     --------------  -----  \n",
      " 0   age        0 non-null      int64  \n",
      " 1   sex        0 non-null      int64  \n",
      " 2   cp         0 non-null      float64\n",
      " 3   trestbps   0 non-null      int64  \n",
      " 4   chol       0 non-null      int64  \n",
      " 5   fbs        0 non-null      int64  \n",
      " 6   restecg    0 non-null      int64  \n",
      " 7   thalach    0 non-null      int64  \n",
      " 8   exang      0 non-null      int64  \n",
      " 9   oldpeak    0 non-null      float64\n",
      " 10  slope      0 non-null      int64  \n",
      " 11  ca         0 non-null      int64  \n",
      " 12  thal       0 non-null      int64  \n",
      " 13  condition  0 non-null      int64  \n",
      "dtypes: float64(2), int64(12)\n",
      "memory usage: 0.0 bytes\n"
     ]
    }
   ],
   "source": [
    "#Revisión tipos de datos y datos faltantes\n",
    "\n",
    "Datos.info()"
   ]
  },
  {
   "cell_type": "code",
   "execution_count": 31,
   "id": "2d7be802-8c73-4075-92aa-3bcad2b72dcb",
   "metadata": {},
   "outputs": [],
   "source": [
    "# 3. Seleccionar las características más relevantes para entrenar el modelo utilizando selección de características. ##########################\n",
    "\n",
    "# Características de interes:\n",
    "# La presencia de enfermedad cardíaca. (1. la tiene // 0. No la tiene)\n",
    "# Predecir si una persona puede tener una enfermedad caridaca"
   ]
  },
  {
   "cell_type": "code",
   "execution_count": 32,
   "id": "763d06f8-69c4-40c0-bb41-5a3da7669040",
   "metadata": {},
   "outputs": [
    {
     "data": {
      "text/plain": [
       "Series([], Name: count, dtype: int64)"
      ]
     },
     "execution_count": 32,
     "metadata": {},
     "output_type": "execute_result"
    }
   ],
   "source": [
    "# Total de personas con enfermedad cardiaca\n",
    "\n",
    "Datos['condition'].value_counts()"
   ]
  },
  {
   "cell_type": "code",
   "execution_count": null,
   "id": "e913e5e5-e799-4478-b38c-4c97394caefc",
   "metadata": {},
   "outputs": [],
   "source": []
  },
  {
   "cell_type": "code",
   "execution_count": null,
   "id": "93d43d46-b706-4047-b0b1-046838022f77",
   "metadata": {},
   "outputs": [],
   "source": []
  }
 ],
 "metadata": {
  "kernelspec": {
   "display_name": "Python [conda env:base] *",
   "language": "python",
   "name": "conda-base-py"
  },
  "language_info": {
   "codemirror_mode": {
    "name": "ipython",
    "version": 3
   },
   "file_extension": ".py",
   "mimetype": "text/x-python",
   "name": "python",
   "nbconvert_exporter": "python",
   "pygments_lexer": "ipython3",
   "version": "3.12.7"
  }
 },
 "nbformat": 4,
 "nbformat_minor": 5
}
