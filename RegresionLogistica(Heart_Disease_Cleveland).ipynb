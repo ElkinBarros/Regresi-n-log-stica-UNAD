{
 "cells": [
  {
   "cell_type": "code",
   "execution_count": 232,
   "id": "567f8a93-848e-46f4-9bc5-295ca370fb1c",
   "metadata": {},
   "outputs": [],
   "source": [
    "#Cargar las librerias necesarias\n",
    "\n",
    "import pandas as pd # Manejo y análisis de estructuras de datos\n",
    "import numpy as np # Cálculo numérico y el análisis de datos\n",
    "import seaborn as sns # Creación gráficos estadísticos\n",
    "import matplotlib.pyplot as plt # Creación de gráficos en dos dimensiones\n",
    "\n",
    "# librerías de para implementar modelos de ciencia de datos\n",
    "from sklearn import metrics\n",
    "from sklearn.model_selection import train_test_split\n",
    "from sklearn.linear_model import LogisticRegression\n",
    "from sklearn.metrics import classification_report, confusion_matrix"
   ]
  },
  {
   "cell_type": "code",
   "execution_count": 233,
   "id": "913e5845-09f5-4573-b7ed-621e91b8ecde",
   "metadata": {},
   "outputs": [],
   "source": [
    "# Lectura de datos para cargue en variable\n",
    "\n",
    "Datos = pd.read_csv(\"C:/Users/Elkin/Desktop/5TO Y PARTE 6TO SEMESTRE/ANÁLISIS DE DATOS/ACTIVIDAD 3/heart_cleveland_upload.csv\")"
   ]
  },
  {
   "cell_type": "code",
   "execution_count": 234,
   "id": "f95ed13a-ea13-4b08-be7e-c08fde4966f9",
   "metadata": {},
   "outputs": [
    {
     "data": {
      "text/html": [
       "<div>\n",
       "<style scoped>\n",
       "    .dataframe tbody tr th:only-of-type {\n",
       "        vertical-align: middle;\n",
       "    }\n",
       "\n",
       "    .dataframe tbody tr th {\n",
       "        vertical-align: top;\n",
       "    }\n",
       "\n",
       "    .dataframe thead th {\n",
       "        text-align: right;\n",
       "    }\n",
       "</style>\n",
       "<table border=\"1\" class=\"dataframe\">\n",
       "  <thead>\n",
       "    <tr style=\"text-align: right;\">\n",
       "      <th></th>\n",
       "      <th>age</th>\n",
       "      <th>sex</th>\n",
       "      <th>cp</th>\n",
       "      <th>trestbps</th>\n",
       "      <th>chol</th>\n",
       "      <th>fbs</th>\n",
       "      <th>restecg</th>\n",
       "      <th>thalach</th>\n",
       "      <th>exang</th>\n",
       "      <th>oldpeak</th>\n",
       "      <th>slope</th>\n",
       "      <th>ca</th>\n",
       "      <th>thal</th>\n",
       "      <th>condition</th>\n",
       "    </tr>\n",
       "  </thead>\n",
       "  <tbody>\n",
       "    <tr>\n",
       "      <th>0</th>\n",
       "      <td>69</td>\n",
       "      <td>1</td>\n",
       "      <td>0</td>\n",
       "      <td>160</td>\n",
       "      <td>234</td>\n",
       "      <td>1</td>\n",
       "      <td>2</td>\n",
       "      <td>131</td>\n",
       "      <td>0</td>\n",
       "      <td>0.1</td>\n",
       "      <td>1</td>\n",
       "      <td>1</td>\n",
       "      <td>0</td>\n",
       "      <td>0</td>\n",
       "    </tr>\n",
       "    <tr>\n",
       "      <th>1</th>\n",
       "      <td>69</td>\n",
       "      <td>0</td>\n",
       "      <td>0</td>\n",
       "      <td>140</td>\n",
       "      <td>239</td>\n",
       "      <td>0</td>\n",
       "      <td>0</td>\n",
       "      <td>151</td>\n",
       "      <td>0</td>\n",
       "      <td>1.8</td>\n",
       "      <td>0</td>\n",
       "      <td>2</td>\n",
       "      <td>0</td>\n",
       "      <td>0</td>\n",
       "    </tr>\n",
       "    <tr>\n",
       "      <th>2</th>\n",
       "      <td>66</td>\n",
       "      <td>0</td>\n",
       "      <td>0</td>\n",
       "      <td>150</td>\n",
       "      <td>226</td>\n",
       "      <td>0</td>\n",
       "      <td>0</td>\n",
       "      <td>114</td>\n",
       "      <td>0</td>\n",
       "      <td>2.6</td>\n",
       "      <td>2</td>\n",
       "      <td>0</td>\n",
       "      <td>0</td>\n",
       "      <td>0</td>\n",
       "    </tr>\n",
       "    <tr>\n",
       "      <th>3</th>\n",
       "      <td>65</td>\n",
       "      <td>1</td>\n",
       "      <td>0</td>\n",
       "      <td>138</td>\n",
       "      <td>282</td>\n",
       "      <td>1</td>\n",
       "      <td>2</td>\n",
       "      <td>174</td>\n",
       "      <td>0</td>\n",
       "      <td>1.4</td>\n",
       "      <td>1</td>\n",
       "      <td>1</td>\n",
       "      <td>0</td>\n",
       "      <td>1</td>\n",
       "    </tr>\n",
       "    <tr>\n",
       "      <th>4</th>\n",
       "      <td>64</td>\n",
       "      <td>1</td>\n",
       "      <td>0</td>\n",
       "      <td>110</td>\n",
       "      <td>211</td>\n",
       "      <td>0</td>\n",
       "      <td>2</td>\n",
       "      <td>144</td>\n",
       "      <td>1</td>\n",
       "      <td>1.8</td>\n",
       "      <td>1</td>\n",
       "      <td>0</td>\n",
       "      <td>0</td>\n",
       "      <td>0</td>\n",
       "    </tr>\n",
       "    <tr>\n",
       "      <th>5</th>\n",
       "      <td>64</td>\n",
       "      <td>1</td>\n",
       "      <td>0</td>\n",
       "      <td>170</td>\n",
       "      <td>227</td>\n",
       "      <td>0</td>\n",
       "      <td>2</td>\n",
       "      <td>155</td>\n",
       "      <td>0</td>\n",
       "      <td>0.6</td>\n",
       "      <td>1</td>\n",
       "      <td>0</td>\n",
       "      <td>2</td>\n",
       "      <td>0</td>\n",
       "    </tr>\n",
       "    <tr>\n",
       "      <th>6</th>\n",
       "      <td>63</td>\n",
       "      <td>1</td>\n",
       "      <td>0</td>\n",
       "      <td>145</td>\n",
       "      <td>233</td>\n",
       "      <td>1</td>\n",
       "      <td>2</td>\n",
       "      <td>150</td>\n",
       "      <td>0</td>\n",
       "      <td>2.3</td>\n",
       "      <td>2</td>\n",
       "      <td>0</td>\n",
       "      <td>1</td>\n",
       "      <td>0</td>\n",
       "    </tr>\n",
       "    <tr>\n",
       "      <th>7</th>\n",
       "      <td>61</td>\n",
       "      <td>1</td>\n",
       "      <td>0</td>\n",
       "      <td>134</td>\n",
       "      <td>234</td>\n",
       "      <td>0</td>\n",
       "      <td>0</td>\n",
       "      <td>145</td>\n",
       "      <td>0</td>\n",
       "      <td>2.6</td>\n",
       "      <td>1</td>\n",
       "      <td>2</td>\n",
       "      <td>0</td>\n",
       "      <td>1</td>\n",
       "    </tr>\n",
       "    <tr>\n",
       "      <th>8</th>\n",
       "      <td>60</td>\n",
       "      <td>0</td>\n",
       "      <td>0</td>\n",
       "      <td>150</td>\n",
       "      <td>240</td>\n",
       "      <td>0</td>\n",
       "      <td>0</td>\n",
       "      <td>171</td>\n",
       "      <td>0</td>\n",
       "      <td>0.9</td>\n",
       "      <td>0</td>\n",
       "      <td>0</td>\n",
       "      <td>0</td>\n",
       "      <td>0</td>\n",
       "    </tr>\n",
       "    <tr>\n",
       "      <th>9</th>\n",
       "      <td>59</td>\n",
       "      <td>1</td>\n",
       "      <td>0</td>\n",
       "      <td>178</td>\n",
       "      <td>270</td>\n",
       "      <td>0</td>\n",
       "      <td>2</td>\n",
       "      <td>145</td>\n",
       "      <td>0</td>\n",
       "      <td>4.2</td>\n",
       "      <td>2</td>\n",
       "      <td>0</td>\n",
       "      <td>2</td>\n",
       "      <td>0</td>\n",
       "    </tr>\n",
       "    <tr>\n",
       "      <th>10</th>\n",
       "      <td>59</td>\n",
       "      <td>1</td>\n",
       "      <td>0</td>\n",
       "      <td>170</td>\n",
       "      <td>288</td>\n",
       "      <td>0</td>\n",
       "      <td>2</td>\n",
       "      <td>159</td>\n",
       "      <td>0</td>\n",
       "      <td>0.2</td>\n",
       "      <td>1</td>\n",
       "      <td>0</td>\n",
       "      <td>2</td>\n",
       "      <td>1</td>\n",
       "    </tr>\n",
       "    <tr>\n",
       "      <th>11</th>\n",
       "      <td>59</td>\n",
       "      <td>1</td>\n",
       "      <td>0</td>\n",
       "      <td>160</td>\n",
       "      <td>273</td>\n",
       "      <td>0</td>\n",
       "      <td>2</td>\n",
       "      <td>125</td>\n",
       "      <td>0</td>\n",
       "      <td>0.0</td>\n",
       "      <td>0</td>\n",
       "      <td>0</td>\n",
       "      <td>0</td>\n",
       "      <td>1</td>\n",
       "    </tr>\n",
       "    <tr>\n",
       "      <th>12</th>\n",
       "      <td>59</td>\n",
       "      <td>1</td>\n",
       "      <td>0</td>\n",
       "      <td>134</td>\n",
       "      <td>204</td>\n",
       "      <td>0</td>\n",
       "      <td>0</td>\n",
       "      <td>162</td>\n",
       "      <td>0</td>\n",
       "      <td>0.8</td>\n",
       "      <td>0</td>\n",
       "      <td>2</td>\n",
       "      <td>0</td>\n",
       "      <td>1</td>\n",
       "    </tr>\n",
       "    <tr>\n",
       "      <th>13</th>\n",
       "      <td>58</td>\n",
       "      <td>0</td>\n",
       "      <td>0</td>\n",
       "      <td>150</td>\n",
       "      <td>283</td>\n",
       "      <td>1</td>\n",
       "      <td>2</td>\n",
       "      <td>162</td>\n",
       "      <td>0</td>\n",
       "      <td>1.0</td>\n",
       "      <td>0</td>\n",
       "      <td>0</td>\n",
       "      <td>0</td>\n",
       "      <td>0</td>\n",
       "    </tr>\n",
       "    <tr>\n",
       "      <th>14</th>\n",
       "      <td>56</td>\n",
       "      <td>1</td>\n",
       "      <td>0</td>\n",
       "      <td>120</td>\n",
       "      <td>193</td>\n",
       "      <td>0</td>\n",
       "      <td>2</td>\n",
       "      <td>162</td>\n",
       "      <td>0</td>\n",
       "      <td>1.9</td>\n",
       "      <td>1</td>\n",
       "      <td>0</td>\n",
       "      <td>2</td>\n",
       "      <td>0</td>\n",
       "    </tr>\n",
       "  </tbody>\n",
       "</table>\n",
       "</div>"
      ],
      "text/plain": [
       "    age  sex  cp  trestbps  chol  fbs  restecg  thalach  exang  oldpeak  \\\n",
       "0    69    1   0       160   234    1        2      131      0      0.1   \n",
       "1    69    0   0       140   239    0        0      151      0      1.8   \n",
       "2    66    0   0       150   226    0        0      114      0      2.6   \n",
       "3    65    1   0       138   282    1        2      174      0      1.4   \n",
       "4    64    1   0       110   211    0        2      144      1      1.8   \n",
       "5    64    1   0       170   227    0        2      155      0      0.6   \n",
       "6    63    1   0       145   233    1        2      150      0      2.3   \n",
       "7    61    1   0       134   234    0        0      145      0      2.6   \n",
       "8    60    0   0       150   240    0        0      171      0      0.9   \n",
       "9    59    1   0       178   270    0        2      145      0      4.2   \n",
       "10   59    1   0       170   288    0        2      159      0      0.2   \n",
       "11   59    1   0       160   273    0        2      125      0      0.0   \n",
       "12   59    1   0       134   204    0        0      162      0      0.8   \n",
       "13   58    0   0       150   283    1        2      162      0      1.0   \n",
       "14   56    1   0       120   193    0        2      162      0      1.9   \n",
       "\n",
       "    slope  ca  thal  condition  \n",
       "0       1   1     0          0  \n",
       "1       0   2     0          0  \n",
       "2       2   0     0          0  \n",
       "3       1   1     0          1  \n",
       "4       1   0     0          0  \n",
       "5       1   0     2          0  \n",
       "6       2   0     1          0  \n",
       "7       1   2     0          1  \n",
       "8       0   0     0          0  \n",
       "9       2   0     2          0  \n",
       "10      1   0     2          1  \n",
       "11      0   0     0          1  \n",
       "12      0   2     0          1  \n",
       "13      0   0     0          0  \n",
       "14      1   0     2          0  "
      ]
     },
     "execution_count": 234,
     "metadata": {},
     "output_type": "execute_result"
    }
   ],
   "source": [
    "# Lectura de datos para análisis exploratorio\n",
    "Datos.head(15)"
   ]
  },
  {
   "cell_type": "code",
   "execution_count": 235,
   "id": "e55d7519-0538-475f-a6cc-1bed2acfa922",
   "metadata": {},
   "outputs": [
    {
     "data": {
      "text/html": [
       "<div>\n",
       "<style scoped>\n",
       "    .dataframe tbody tr th:only-of-type {\n",
       "        vertical-align: middle;\n",
       "    }\n",
       "\n",
       "    .dataframe tbody tr th {\n",
       "        vertical-align: top;\n",
       "    }\n",
       "\n",
       "    .dataframe thead th {\n",
       "        text-align: right;\n",
       "    }\n",
       "</style>\n",
       "<table border=\"1\" class=\"dataframe\">\n",
       "  <thead>\n",
       "    <tr style=\"text-align: right;\">\n",
       "      <th></th>\n",
       "      <th>age</th>\n",
       "      <th>sex</th>\n",
       "      <th>cp</th>\n",
       "      <th>trestbps</th>\n",
       "      <th>chol</th>\n",
       "      <th>fbs</th>\n",
       "      <th>restecg</th>\n",
       "      <th>thalach</th>\n",
       "      <th>exang</th>\n",
       "      <th>oldpeak</th>\n",
       "      <th>slope</th>\n",
       "      <th>ca</th>\n",
       "      <th>thal</th>\n",
       "      <th>condition</th>\n",
       "    </tr>\n",
       "  </thead>\n",
       "  <tbody>\n",
       "    <tr>\n",
       "      <th>count</th>\n",
       "      <td>297.000000</td>\n",
       "      <td>297.000000</td>\n",
       "      <td>297.000000</td>\n",
       "      <td>297.000000</td>\n",
       "      <td>297.000000</td>\n",
       "      <td>297.000000</td>\n",
       "      <td>297.000000</td>\n",
       "      <td>297.000000</td>\n",
       "      <td>297.000000</td>\n",
       "      <td>297.000000</td>\n",
       "      <td>297.000000</td>\n",
       "      <td>297.000000</td>\n",
       "      <td>297.000000</td>\n",
       "      <td>297.000000</td>\n",
       "    </tr>\n",
       "    <tr>\n",
       "      <th>mean</th>\n",
       "      <td>54.542088</td>\n",
       "      <td>0.676768</td>\n",
       "      <td>2.158249</td>\n",
       "      <td>131.693603</td>\n",
       "      <td>247.350168</td>\n",
       "      <td>0.144781</td>\n",
       "      <td>0.996633</td>\n",
       "      <td>149.599327</td>\n",
       "      <td>0.326599</td>\n",
       "      <td>1.055556</td>\n",
       "      <td>0.602694</td>\n",
       "      <td>0.676768</td>\n",
       "      <td>0.835017</td>\n",
       "      <td>0.461279</td>\n",
       "    </tr>\n",
       "    <tr>\n",
       "      <th>std</th>\n",
       "      <td>9.049736</td>\n",
       "      <td>0.468500</td>\n",
       "      <td>0.964859</td>\n",
       "      <td>17.762806</td>\n",
       "      <td>51.997583</td>\n",
       "      <td>0.352474</td>\n",
       "      <td>0.994914</td>\n",
       "      <td>22.941562</td>\n",
       "      <td>0.469761</td>\n",
       "      <td>1.166123</td>\n",
       "      <td>0.618187</td>\n",
       "      <td>0.938965</td>\n",
       "      <td>0.956690</td>\n",
       "      <td>0.499340</td>\n",
       "    </tr>\n",
       "    <tr>\n",
       "      <th>min</th>\n",
       "      <td>29.000000</td>\n",
       "      <td>0.000000</td>\n",
       "      <td>0.000000</td>\n",
       "      <td>94.000000</td>\n",
       "      <td>126.000000</td>\n",
       "      <td>0.000000</td>\n",
       "      <td>0.000000</td>\n",
       "      <td>71.000000</td>\n",
       "      <td>0.000000</td>\n",
       "      <td>0.000000</td>\n",
       "      <td>0.000000</td>\n",
       "      <td>0.000000</td>\n",
       "      <td>0.000000</td>\n",
       "      <td>0.000000</td>\n",
       "    </tr>\n",
       "    <tr>\n",
       "      <th>25%</th>\n",
       "      <td>48.000000</td>\n",
       "      <td>0.000000</td>\n",
       "      <td>2.000000</td>\n",
       "      <td>120.000000</td>\n",
       "      <td>211.000000</td>\n",
       "      <td>0.000000</td>\n",
       "      <td>0.000000</td>\n",
       "      <td>133.000000</td>\n",
       "      <td>0.000000</td>\n",
       "      <td>0.000000</td>\n",
       "      <td>0.000000</td>\n",
       "      <td>0.000000</td>\n",
       "      <td>0.000000</td>\n",
       "      <td>0.000000</td>\n",
       "    </tr>\n",
       "    <tr>\n",
       "      <th>50%</th>\n",
       "      <td>56.000000</td>\n",
       "      <td>1.000000</td>\n",
       "      <td>2.000000</td>\n",
       "      <td>130.000000</td>\n",
       "      <td>243.000000</td>\n",
       "      <td>0.000000</td>\n",
       "      <td>1.000000</td>\n",
       "      <td>153.000000</td>\n",
       "      <td>0.000000</td>\n",
       "      <td>0.800000</td>\n",
       "      <td>1.000000</td>\n",
       "      <td>0.000000</td>\n",
       "      <td>0.000000</td>\n",
       "      <td>0.000000</td>\n",
       "    </tr>\n",
       "    <tr>\n",
       "      <th>75%</th>\n",
       "      <td>61.000000</td>\n",
       "      <td>1.000000</td>\n",
       "      <td>3.000000</td>\n",
       "      <td>140.000000</td>\n",
       "      <td>276.000000</td>\n",
       "      <td>0.000000</td>\n",
       "      <td>2.000000</td>\n",
       "      <td>166.000000</td>\n",
       "      <td>1.000000</td>\n",
       "      <td>1.600000</td>\n",
       "      <td>1.000000</td>\n",
       "      <td>1.000000</td>\n",
       "      <td>2.000000</td>\n",
       "      <td>1.000000</td>\n",
       "    </tr>\n",
       "    <tr>\n",
       "      <th>max</th>\n",
       "      <td>77.000000</td>\n",
       "      <td>1.000000</td>\n",
       "      <td>3.000000</td>\n",
       "      <td>200.000000</td>\n",
       "      <td>564.000000</td>\n",
       "      <td>1.000000</td>\n",
       "      <td>2.000000</td>\n",
       "      <td>202.000000</td>\n",
       "      <td>1.000000</td>\n",
       "      <td>6.200000</td>\n",
       "      <td>2.000000</td>\n",
       "      <td>3.000000</td>\n",
       "      <td>2.000000</td>\n",
       "      <td>1.000000</td>\n",
       "    </tr>\n",
       "  </tbody>\n",
       "</table>\n",
       "</div>"
      ],
      "text/plain": [
       "              age         sex          cp    trestbps        chol         fbs  \\\n",
       "count  297.000000  297.000000  297.000000  297.000000  297.000000  297.000000   \n",
       "mean    54.542088    0.676768    2.158249  131.693603  247.350168    0.144781   \n",
       "std      9.049736    0.468500    0.964859   17.762806   51.997583    0.352474   \n",
       "min     29.000000    0.000000    0.000000   94.000000  126.000000    0.000000   \n",
       "25%     48.000000    0.000000    2.000000  120.000000  211.000000    0.000000   \n",
       "50%     56.000000    1.000000    2.000000  130.000000  243.000000    0.000000   \n",
       "75%     61.000000    1.000000    3.000000  140.000000  276.000000    0.000000   \n",
       "max     77.000000    1.000000    3.000000  200.000000  564.000000    1.000000   \n",
       "\n",
       "          restecg     thalach       exang     oldpeak       slope          ca  \\\n",
       "count  297.000000  297.000000  297.000000  297.000000  297.000000  297.000000   \n",
       "mean     0.996633  149.599327    0.326599    1.055556    0.602694    0.676768   \n",
       "std      0.994914   22.941562    0.469761    1.166123    0.618187    0.938965   \n",
       "min      0.000000   71.000000    0.000000    0.000000    0.000000    0.000000   \n",
       "25%      0.000000  133.000000    0.000000    0.000000    0.000000    0.000000   \n",
       "50%      1.000000  153.000000    0.000000    0.800000    1.000000    0.000000   \n",
       "75%      2.000000  166.000000    1.000000    1.600000    1.000000    1.000000   \n",
       "max      2.000000  202.000000    1.000000    6.200000    2.000000    3.000000   \n",
       "\n",
       "             thal   condition  \n",
       "count  297.000000  297.000000  \n",
       "mean     0.835017    0.461279  \n",
       "std      0.956690    0.499340  \n",
       "min      0.000000    0.000000  \n",
       "25%      0.000000    0.000000  \n",
       "50%      0.000000    0.000000  \n",
       "75%      2.000000    1.000000  \n",
       "max      2.000000    1.000000  "
      ]
     },
     "execution_count": 235,
     "metadata": {},
     "output_type": "execute_result"
    }
   ],
   "source": [
    "# Descripción de los datos\n",
    "\n",
    "Datos.describe()"
   ]
  },
  {
   "cell_type": "code",
   "execution_count": 236,
   "id": "6e0fbb0f-1f37-46f2-9627-d8698548c0a0",
   "metadata": {},
   "outputs": [
    {
     "data": {
      "text/plain": [
       "Text(0.5, 1.0, 'Datos faltantes y atípicos (Niveles de colesterol)')"
      ]
     },
     "execution_count": 236,
     "metadata": {},
     "output_type": "execute_result"
    },
    {
     "data": {
      "image/png": "[encoded data removed]",
      "text/plain": [
       "<Figure size 600x300 with 1 Axes>"
      ]
     },
     "metadata": {},
     "output_type": "display_data"
    }
   ],
   "source": [
    "# Identificación datos faltante y atípicos a partír de variable de niveles de colesterol\n",
    "# según niveles entre 200 a 239 se consideran elevados.\n",
    "\n",
    "plt.figure(figsize=(6,3))\n",
    "sns.boxplot(x=Datos['chol'])\n",
    "plt.title('Datos faltantes y atípicos (Niveles de colesterol)', fontsize=10)"
   ]
  },
  {
   "cell_type": "code",
   "execution_count": 237,
   "id": "518411b1-7200-4c09-9dd1-049bb3dfe1de",
   "metadata": {
    "scrolled": true
   },
   "outputs": [
    {
     "data": {
      "text/plain": [
       "Text(0.5, 1.0, 'Datos faltantes y atípicos (Edad)')"
      ]
     },
     "execution_count": 237,
     "metadata": {},
     "output_type": "execute_result"
    },
    {
     "data": {
      "image/png": "[encoded data removed]",
      "text/plain": [
       "<Figure size 600x300 with 1 Axes>"
      ]
     },
     "metadata": {},
     "output_type": "display_data"
    }
   ],
   "source": [
    "# Identificación datos faltante y atípicos a partír de variable de edad.\n",
    "\n",
    "plt.figure(figsize=(6,3))\n",
    "sns.boxplot(x=Datos['age'])\n",
    "plt.title('Datos faltantes y atípicos (Edad)', fontsize=10)"
   ]
  },
  {
   "cell_type": "code",
   "execution_count": 238,
   "id": "e5522a2e-d0d3-4f09-b9ae-c8b093ca49dc",
   "metadata": {},
   "outputs": [
    {
     "data": {
      "text/plain": [
       "Text(0.5, 1.0, 'Datos faltantes y atípicos (Frecuencia cardiaca)')"
      ]
     },
     "execution_count": 238,
     "metadata": {},
     "output_type": "execute_result"
    },
    {
     "data": {
      "image/png": "[encoded data removed]",
      "text/plain": [
       "<Figure size 600x300 with 1 Axes>"
      ]
     },
     "metadata": {},
     "output_type": "display_data"
    }
   ],
   "source": [
    "# Identificación datos faltante y atípicos a partír de variable de Frecuencia cardiaca.\n",
    " \n",
    "plt.figure(figsize=(6,3))\n",
    "sns.boxplot(x=Datos['thalach'])\n",
    "plt.title('Datos faltantes y atípicos (Frecuencia cardiaca)', fontsize=10)"
   ]
  },
  {
   "cell_type": "code",
   "execution_count": 239,
   "id": "6cb6361a-c86b-42ed-bd67-3f9c39c476b0",
   "metadata": {},
   "outputs": [
    {
     "data": {
      "text/plain": [
       "Text(0.5, 1.0, 'Datos faltantes y atípicos (Tipo de dolor)')"
      ]
     },
     "execution_count": 239,
     "metadata": {},
     "output_type": "execute_result"
    },
    {
     "data": {
      "image/png": "[encoded data removed]",
      "text/plain": [
       "<Figure size 600x300 with 1 Axes>"
      ]
     },
     "metadata": {},
     "output_type": "display_data"
    }
   ],
   "source": [
    "# Identificación datos faltante y atípicos a partír de variable de tipo de dolor de pecho\n",
    "# Esta categorizado por 4 tipos (0. Angina típica, 1. Angina atípica, 2. Dolor no anginal, 3. Asintomático)\n",
    "\n",
    "plt.figure(figsize=(6,3))\n",
    "sns.boxplot(x=Datos['cp'])\n",
    "plt.title('Datos faltantes y atípicos (Tipo de dolor)', fontsize=10)"
   ]
  },
  {
   "cell_type": "code",
   "execution_count": 240,
   "id": "6b01ad96-f7bd-4181-b9e3-ba8fb501dec3",
   "metadata": {},
   "outputs": [
    {
     "data": {
      "text/plain": [
       "Text(0.5, 1.0, 'Datos faltantes y atípicos (Presión arterial en reposo)')"
      ]
     },
     "execution_count": 240,
     "metadata": {},
     "output_type": "execute_result"
    },
    {
     "data": {
      "image/png": "[encoded data removed]",
      "text/plain": [
       "<Figure size 600x300 with 1 Axes>"
      ]
     },
     "metadata": {},
     "output_type": "display_data"
    }
   ],
   "source": [
    "# Identificación datos faltante y atípicos a partír de variable de Presión arterial en reposo\n",
    "# Presión arterial óptima: menor a 120/80 mm Hg\n",
    "# Presión arterial normal: entre 120-129/80-84 mm Hg\n",
    "# Presión arterial normal alta: entre 130-139/85-89 mm Hg\n",
    "# Hipertensión arterial: mayor a 140/90 mm Hg\n",
    "\n",
    "plt.figure(figsize=(6,3))\n",
    "sns.boxplot(x=Datos['trestbps'])\n",
    "plt.title('Datos faltantes y atípicos (Presión arterial en reposo)', fontsize=10)"
   ]
  },
  {
   "cell_type": "code",
   "execution_count": 241,
   "id": "61cb68c3-86e6-4a2b-afa7-0ad986f9dc3f",
   "metadata": {},
   "outputs": [
    {
     "data": {
      "text/plain": [
       "Text(0.5, 1.0, 'Datos faltantes y atípicos (Depresión del segmento ST)')"
      ]
     },
     "execution_count": 241,
     "metadata": {},
     "output_type": "execute_result"
    },
    {
     "data": {
      "image/png": "[encoded data removed]",
      "text/plain": [
       "<Figure size 600x300 with 1 Axes>"
      ]
     },
     "metadata": {},
     "output_type": "display_data"
    }
   ],
   "source": [
    "# Identificación datos faltante y atípicos a partír de variable de Depresión del segmento ST\n",
    "# Es el hallazgo característico asociado con la isquemia inducida por el ejercicio y la demanda \n",
    "# en pacientes con obstrucción coronaria significativa pero sin limitación de flujo en reposo.\n",
    "# Puede indicar isquemia cardíaca en presencia de síntomas cardíacos activos.\n",
    "# La isquemia miocárdica ocurre cuando se reduce el flujo sanguíneo por una o más de las arterias coronarias.\n",
    "# Se clasifica:\n",
    "# < 1 mm\tPuede ser inespecífica, especialmente si es ascendente.\n",
    "# 1-2 mm\tPosible isquemia inducida por ejercicio.\n",
    "# 2-3 mm\tIsquemia moderada a severa.\n",
    "# ≥ 3 mm\tIsquemia grave, alto riesgo de eventos coronarios.\n",
    "# ≥ 4 mm\tIsquemia miocárdica crítica, muy preocupante.\n",
    "\n",
    "\n",
    "plt.figure(figsize=(6,3))\n",
    "sns.boxplot(x=Datos['oldpeak'])\n",
    "plt.title('Datos faltantes y atípicos (Depresión del segmento ST)', fontsize=10)"
   ]
  },
  {
   "cell_type": "code",
   "execution_count": 242,
   "id": "95e4f5eb-c663-482e-8977-ddf3a2b4575e",
   "metadata": {},
   "outputs": [
    {
     "name": "stdout",
     "output_type": "stream",
     "text": [
      "Cantidad de valores con cero en niveles de colesterol 0\n",
      "Cantidad de valores con cero en edad 0\n",
      "Cantidad de valores con cero en niveles de frecuencia cardiaca 0\n",
      "Cantidad de valores con cero en tipo de dolor 23\n",
      "Cantidad de valores con cero en niveles de presión arterial 0\n"
     ]
    }
   ],
   "source": [
    "# Procesamiento de datos con limpieza, tratamiento de valores faltantes y transformación a necesidad.\n",
    "\n",
    "# 2. Revisión de datos faltantes, se esta indicando en esta sección si es sistema encuentra valores cero en las variables seleccionadas ###############\n",
    "\n",
    "print (\"Cantidad de valores con cero en niveles de colesterol\",Datos['chol'].isin([0]).sum())\n",
    "print (\"Cantidad de valores con cero en edad\",Datos['age'].isin([0]).sum())\n",
    "print (\"Cantidad de valores con cero en niveles de frecuencia cardiaca\",Datos['thalach'].isin([0]).sum())\n",
    "print (\"Cantidad de valores con cero en tipo de dolor\",Datos['cp'].isin([0]).sum())\n",
    "print (\"Cantidad de valores con cero en niveles de presión arterial\",Datos['trestbps'].isin([0]).sum())"
   ]
  },
  {
   "cell_type": "code",
   "execution_count": 243,
   "id": "c3c58a55-bda6-4ad2-8637-4e075f323909",
   "metadata": {},
   "outputs": [],
   "source": [
    "# Reemplazo de todos los ceros con el valor medio (Promedio) de la columna.\n",
    "# Aplicación de inputación en datos.\n",
    "\n",
    "Datos['chol']=Datos['chol'].replace(0,Datos['chol'].mean())\n",
    "Datos['age']=Datos['age'].replace(0,Datos['age'].mean())\n",
    "Datos['thalach']=Datos['thalach'].replace(0,Datos['thalach'].mean())\n",
    "Datos['cp']=Datos['cp'].replace(0,Datos['cp'].mean())\n",
    "Datos['trestbps']=Datos['trestbps'].replace(0,Datos['trestbps'].mean())"
   ]
  },
  {
   "cell_type": "code",
   "execution_count": 244,
   "id": "aaff29c3-1b5b-42eb-ba02-2abbde6cd1b7",
   "metadata": {},
   "outputs": [
    {
     "name": "stdout",
     "output_type": "stream",
     "text": [
      "Cantidad de valores con cero en niveles de colesterol 0\n",
      "Cantidad de valores con cero en edad 0\n",
      "Cantidad de valores con cero en niveles de frecuencia cardiaca 0\n",
      "Cantidad de valores con cero en tipo de dolor 0\n",
      "Cantidad de valores con cero en niveles de presión arterial 0\n"
     ]
    }
   ],
   "source": [
    "# Revisión provisional datos faltantes\n",
    "\n",
    "print (\"Cantidad de valores con cero en niveles de colesterol\",Datos['chol'].isin([0]).sum())\n",
    "print (\"Cantidad de valores con cero en edad\",Datos['age'].isin([0]).sum())\n",
    "print (\"Cantidad de valores con cero en niveles de frecuencia cardiaca\",Datos['thalach'].isin([0]).sum())\n",
    "print (\"Cantidad de valores con cero en tipo de dolor\",Datos['cp'].isin([0]).sum())\n",
    "print (\"Cantidad de valores con cero en niveles de presión arterial\",Datos['trestbps'].isin([0]).sum())"
   ]
  },
  {
   "cell_type": "code",
   "execution_count": 245,
   "id": "7126fcbd-9ce5-42ac-9dfd-b64bab7fbb66",
   "metadata": {},
   "outputs": [
    {
     "data": {
      "text/plain": [
       "Text(0.5, 1.0, 'Datos faltantes y atípicos (Niveles de colesterol)')"
      ]
     },
     "execution_count": 245,
     "metadata": {},
     "output_type": "execute_result"
    },
    {
     "data": {
      "image/png": "[encoded data removed]",
      "text/plain": [
       "<Figure size 600x300 with 1 Axes>"
      ]
     },
     "metadata": {},
     "output_type": "display_data"
    }
   ],
   "source": [
    "# Identificación datos faltante y atípicos a partír de variable de niveles de colesterol\n",
    "# según niveles entre 200 a 239 se consideran elevados.\n",
    "\n",
    "plt.figure(figsize=(6,3))\n",
    "sns.boxplot(x=Datos['chol'])\n",
    "plt.title('Datos faltantes y atípicos (Niveles de colesterol)', fontsize=10)"
   ]
  },
  {
   "cell_type": "code",
   "execution_count": 246,
   "id": "5a4f46f8-c56d-472a-bf7c-7e11966e2b37",
   "metadata": {},
   "outputs": [
    {
     "name": "stdout",
     "output_type": "stream",
     "text": [
      "El total de datos atípicos en colesterol es: 52\n"
     ]
    }
   ],
   "source": [
    "#Conteo de datos atípicos colesterol\n",
    "\n",
    "nivel_minimo=200\n",
    "nivel_maximo=400\n",
    "Total_Atipicos=((Datos['chol']<nivel_minimo)|(Datos['chol']>nivel_maximo)).sum()\n",
    "print(\"El total de datos atípicos en colesterol es: {}\".format(Total_Atipicos))"
   ]
  },
  {
   "cell_type": "code",
   "execution_count": 247,
   "id": "8bd09864-9fb5-4584-8075-37275a3e592f",
   "metadata": {},
   "outputs": [],
   "source": [
    "# Filtración datos atípicos\n",
    "\n",
    "Datos=Datos[(Datos['chol']<nivel_maximo)&(Datos['chol']>nivel_minimo)]"
   ]
  },
  {
   "cell_type": "code",
   "execution_count": 248,
   "id": "e347e7ee-8e2f-43b9-a8dc-6fc072c1763e",
   "metadata": {},
   "outputs": [
    {
     "name": "stdout",
     "output_type": "stream",
     "text": [
      "El total de los datos atípicos de colesterol es: 0\n"
     ]
    }
   ],
   "source": [
    "# Filtra datos atípicos\n",
    "\n",
    "Total_Atipicos=((Datos['chol']<nivel_minimo)|(Datos['chol']>nivel_maximo)).sum()\n",
    "print(\"El total de los datos atípicos de colesterol es: {}\".format(Total_Atipicos)) "
   ]
  },
  {
   "cell_type": "code",
   "execution_count": 249,
   "id": "779be923-2f73-4f47-9a3a-a3441ea3bb0c",
   "metadata": {},
   "outputs": [
    {
     "data": {
      "text/plain": [
       "Text(0.5, 1.0, 'Datos faltantes y atípicos (Frecuencia cardiaca)')"
      ]
     },
     "execution_count": 249,
     "metadata": {},
     "output_type": "execute_result"
    },
    {
     "data": {
      "image/png": "[encoded data removed]",
      "text/plain": [
       "<Figure size 600x300 with 1 Axes>"
      ]
     },
     "metadata": {},
     "output_type": "display_data"
    }
   ],
   "source": [
    "# Identificación datos faltante y atípicos a partír de variable de Frecuencia cardiaca máxima.\n",
    "\n",
    "plt.figure(figsize=(6,3))\n",
    "sns.boxplot(x=Datos['thalach'])\n",
    "plt.title('Datos faltantes y atípicos (Frecuencia cardiaca)', fontsize=10)"
   ]
  },
  {
   "cell_type": "code",
   "execution_count": 250,
   "id": "8eb14ebf-d318-408e-83c7-859692d5305e",
   "metadata": {},
   "outputs": [
    {
     "name": "stdout",
     "output_type": "stream",
     "text": [
      "El total de datos atípicos en Frecuencia cardiaca es: 80\n"
     ]
    }
   ],
   "source": [
    "#Conteo de datos atípicos Frecuencia cardiaca, se estiman lo siguientes rangos según las edades estimadas en el dataset:\n",
    "#40 años → 180 lpm\n",
    "#50 años → 170 lpm\n",
    "#60 años → 160 lpm\n",
    "#70 años → 150 lpm\n",
    "\n",
    "\n",
    "nivel_minimo=140\n",
    "nivel_maximo=180\n",
    "Total_Atipicos=((Datos['thalach']<nivel_minimo)|(Datos['thalach']>nivel_maximo)).sum()\n",
    "print(\"El total de datos atípicos en Frecuencia cardiaca es: {}\".format(Total_Atipicos))"
   ]
  },
  {
   "cell_type": "code",
   "execution_count": 251,
   "id": "61e2ef7e-1865-4f79-8ce5-1e180f328d59",
   "metadata": {},
   "outputs": [],
   "source": [
    "Datos=Datos[(Datos['thalach']<nivel_maximo)&(Datos['thalach']>nivel_minimo)]"
   ]
  },
  {
   "cell_type": "code",
   "execution_count": 252,
   "id": "b48ba95e-308b-40c0-9046-b5a753c9079d",
   "metadata": {},
   "outputs": [
    {
     "name": "stdout",
     "output_type": "stream",
     "text": [
      "El total de los datos atípicos en frecuencia cardiaca es: 0\n"
     ]
    }
   ],
   "source": [
    "# Validación remoción datos atípicos\n",
    "\n",
    "Total_Atipicos=((Datos['thalach']<nivel_minimo)|(Datos['thalach']>nivel_maximo)).sum()\n",
    "print(\"El total de los datos atípicos en frecuencia cardiaca es: {}\".format(Total_Atipicos)) "
   ]
  },
  {
   "cell_type": "code",
   "execution_count": 253,
   "id": "a6c5501d-1481-4cc0-8557-877c4c77fd91",
   "metadata": {},
   "outputs": [
    {
     "data": {
      "text/plain": [
       "Text(0.5, 1.0, 'Identificación datos atípicos')"
      ]
     },
     "execution_count": 253,
     "metadata": {},
     "output_type": "execute_result"
    },
    {
     "data": {
      "image/png": "[encoded data removed]",
      "text/plain": [
       "<Figure size 600x300 with 1 Axes>"
      ]
     },
     "metadata": {},
     "output_type": "display_data"
    }
   ],
   "source": [
    "#Identificación de valores atípicos\n",
    "# Presión arterial\n",
    "\n",
    "# Presión arterial óptima: menor a 120/80 mm Hg\n",
    "# Presión arterial normal: entre 120-129/80-84 mm Hg\n",
    "# Presión arterial normal alta: entre 130-139/85-89 mm Hg\n",
    "# Hipertensión arterial: mayor a 140/90 mm Hg\n",
    "\n",
    "plt.figure(figsize=(6,3))\n",
    "sns.boxplot(x=Datos['trestbps'])\n",
    "plt.title('Identificación datos atípicos', fontsize=10)"
   ]
  },
  {
   "cell_type": "code",
   "execution_count": 254,
   "id": "be16a50b-40a5-4d2c-97b9-bf249e253ec1",
   "metadata": {},
   "outputs": [
    {
     "name": "stdout",
     "output_type": "stream",
     "text": [
      "El total de datos atípicos en presión arterial es: 31\n"
     ]
    }
   ],
   "source": [
    "#Conteo de datos atípicos presión arterial\n",
    "\n",
    "nivel_minimo=120\n",
    "nivel_maximo=200\n",
    "Total_Atipicos=((Datos['trestbps']<nivel_minimo)|(Datos['trestbps']>nivel_maximo)).sum()\n",
    "print(\"El total de datos atípicos en presión arterial es: {}\".format(Total_Atipicos))"
   ]
  },
  {
   "cell_type": "code",
   "execution_count": 255,
   "id": "1d0151a7-ec42-4761-bcf8-8f7071234b12",
   "metadata": {},
   "outputs": [],
   "source": [
    "Datos=Datos[(Datos['trestbps']<nivel_maximo)&(Datos['trestbps']>nivel_minimo)]"
   ]
  },
  {
   "cell_type": "code",
   "execution_count": 256,
   "id": "f1aa4f2a-9195-4291-b0c1-9206ea4ac12a",
   "metadata": {},
   "outputs": [
    {
     "name": "stdout",
     "output_type": "stream",
     "text": [
      "El total de los datos atípicos en presión arterial es: 0\n"
     ]
    }
   ],
   "source": [
    "Total_Atipicos=((Datos['trestbps']<nivel_minimo)|(Datos['trestbps']>nivel_maximo)).sum()\n",
    "print(\"El total de los datos atípicos en presión arterial es: {}\".format(Total_Atipicos)) "
   ]
  },
  {
   "cell_type": "code",
   "execution_count": 257,
   "id": "5dd65657-df93-475e-bdba-a38ff4c4e7a4",
   "metadata": {
    "scrolled": true
   },
   "outputs": [
    {
     "data": {
      "text/plain": [
       "Text(0.5, 1.0, 'Datos faltantes y atípicos (Depresión del segmento ST)')"
      ]
     },
     "execution_count": 257,
     "metadata": {},
     "output_type": "execute_result"
    },
    {
     "data": {
      "image/png": "[encoded data removed]",
      "text/plain": [
       "<Figure size 600x300 with 1 Axes>"
      ]
     },
     "metadata": {},
     "output_type": "display_data"
    }
   ],
   "source": [
    "# Identificación datos faltante y atípicos a partír de variable de Depresión del segmento ST\n",
    "# Es el hallazgo característico asociado con la isquemia inducida por el ejercicio y la demanda \n",
    "# en pacientes con obstrucción coronaria significativa pero sin limitación de flujo en reposo.\n",
    "# Puede indicar isquemia cardíaca en presencia de síntomas cardíacos activos.\n",
    "# La isquemia miocárdica ocurre cuando se reduce el flujo sanguíneo por una o más de las arterias coronarias.\n",
    "# Se clasifica:\n",
    "# < 1 mm\tPuede ser inespecífica, especialmente si es ascendente.\n",
    "# 1-2 mm\tPosible isquemia inducida por ejercicio.\n",
    "# 2-3 mm\tIsquemia moderada a severa.\n",
    "# ≥ 3 mm\tIsquemia grave, alto riesgo de eventos coronarios.\n",
    "# ≥ 4 mm\tIsquemia miocárdica crítica, muy preocupante.\n",
    "\n",
    "\n",
    "plt.figure(figsize=(6,3))\n",
    "sns.boxplot(x=Datos['oldpeak'])\n",
    "plt.title('Datos faltantes y atípicos (Depresión del segmento ST)', fontsize=10)"
   ]
  },
  {
   "cell_type": "code",
   "execution_count": 258,
   "id": "29a8f92d-c748-4395-8689-924a6058e202",
   "metadata": {},
   "outputs": [
    {
     "name": "stdout",
     "output_type": "stream",
     "text": [
      "El total de datos atípicos en Frecuencia cardiaca es: 108\n"
     ]
    }
   ],
   "source": [
    "# Conteo de datos atípicos Depresión del segmento ST\n",
    "\n",
    "nivel_minimo=0\n",
    "nivel_maximo=6\n",
    "Total_Atipicos=((Datos['thalach']<nivel_minimo)|(Datos['thalach']>nivel_maximo)).sum()\n",
    "print(\"El total de datos atípicos en Frecuencia cardiaca es: {}\".format(Total_Atipicos))"
   ]
  },
  {
   "cell_type": "code",
   "execution_count": 259,
   "id": "9ce1055c-158e-4586-98e4-42f4cc5e203b",
   "metadata": {},
   "outputs": [],
   "source": [
    "Datos=Datos[(Datos['oldpeak']<nivel_maximo)&(Datos['oldpeak']>nivel_minimo)]"
   ]
  },
  {
   "cell_type": "code",
   "execution_count": 260,
   "id": "2c2f8f38-9778-4881-853d-564efd84e5b2",
   "metadata": {
    "scrolled": true
   },
   "outputs": [
    {
     "name": "stdout",
     "output_type": "stream",
     "text": [
      "El total de los datos atípicos en segmento ST es: 0\n"
     ]
    }
   ],
   "source": [
    "Total_Atipicos=((Datos['oldpeak']<nivel_minimo)|(Datos['oldpeak']>nivel_maximo)).sum()\n",
    "print(\"El total de los datos atípicos en segmento ST es: {}\".format(Total_Atipicos)) \n"
   ]
  },
  {
   "cell_type": "code",
   "execution_count": 261,
   "id": "d34d478d-4d69-4edf-bc0f-3cb4e2e7708f",
   "metadata": {},
   "outputs": [
    {
     "name": "stdout",
     "output_type": "stream",
     "text": [
      "<class 'pandas.core.frame.DataFrame'>\n",
      "Index: 67 entries, 1 to 285\n",
      "Data columns (total 14 columns):\n",
      " #   Column     Non-Null Count  Dtype  \n",
      "---  ------     --------------  -----  \n",
      " 0   age        67 non-null     int64  \n",
      " 1   sex        67 non-null     int64  \n",
      " 2   cp         67 non-null     float64\n",
      " 3   trestbps   67 non-null     int64  \n",
      " 4   chol       67 non-null     int64  \n",
      " 5   fbs        67 non-null     int64  \n",
      " 6   restecg    67 non-null     int64  \n",
      " 7   thalach    67 non-null     int64  \n",
      " 8   exang      67 non-null     int64  \n",
      " 9   oldpeak    67 non-null     float64\n",
      " 10  slope      67 non-null     int64  \n",
      " 11  ca         67 non-null     int64  \n",
      " 12  thal       67 non-null     int64  \n",
      " 13  condition  67 non-null     int64  \n",
      "dtypes: float64(2), int64(12)\n",
      "memory usage: 7.9 KB\n"
     ]
    }
   ],
   "source": [
    "#Revisión tipos de datos y datos faltantes\n",
    "\n",
    "Datos.info()"
   ]
  },
  {
   "cell_type": "code",
   "execution_count": 262,
   "id": "2d7be802-8c73-4075-92aa-3bcad2b72dcb",
   "metadata": {},
   "outputs": [],
   "source": [
    "# 3. Seleccionar las características más relevantes para entrenar el modelo utilizando selección de características. ##########################\n",
    "\n",
    "# Características de interes:\n",
    "# La presencia de enfermedad cardíaca. (1. la tiene // 0. No la tiene)\n",
    "# Predecir si una persona puede tener una enfermedad caridaca"
   ]
  },
  {
   "cell_type": "code",
   "execution_count": 263,
   "id": "763d06f8-69c4-40c0-bb41-5a3da7669040",
   "metadata": {},
   "outputs": [
    {
     "data": {
      "text/plain": [
       "condition\n",
       "0    35\n",
       "1    32\n",
       "Name: count, dtype: int64"
      ]
     },
     "execution_count": 263,
     "metadata": {},
     "output_type": "execute_result"
    }
   ],
   "source": [
    "# Total de personas con enfermedad cardiaca\n",
    "\n",
    "Datos['condition'].value_counts()"
   ]
  },
  {
   "cell_type": "code",
   "execution_count": 264,
   "id": "e913e5e5-e799-4478-b38c-4c97394caefc",
   "metadata": {},
   "outputs": [],
   "source": [
    "#4. Dividir el dataset en train y test para evaluar correctamente el modelo"
   ]
  },
  {
   "cell_type": "code",
   "execution_count": 265,
   "id": "93d43d46-b706-4047-b0b1-046838022f77",
   "metadata": {
    "scrolled": true
   },
   "outputs": [],
   "source": [
    "# Porcentaje de datos para entrenamiento (Train) = 75%, y para prueba (test) =25%\n",
    "\n",
    "# Son creadas dos variables X y Y que permiten almacenar la información del entrenamiento\n",
    "\n",
    "X = Datos.drop('condition',axis=1) # acá  se cargan los datos de train sin los datos de la columna de condición.\n",
    "Y = Datos['condition'] # Son cargados los datos de train con los datos de la columna diabético\n",
    "\n",
    "# Al usar la función train_test_split se crea una división de un conjunto de datos en dos bloques: uno de entrenamiento y otro de prueba (train and test)\n",
    "\n",
    "X_train, X_test, Y_train, Y_test = train_test_split(X, Y, test_size=0.25, stratify=Y, random_state=0)\n"
   ]
  },
  {
   "cell_type": "code",
   "execution_count": 266,
   "id": "35aa4d26-2b36-4c83-b180-0b6b38827c67",
   "metadata": {
    "scrolled": true
   },
   "outputs": [
    {
     "name": "stdout",
     "output_type": "stream",
     "text": [
      "     age  sex        cp  trestbps  chol  fbs  restecg  thalach  exang  \\\n",
      "12    59    1  2.158249       134   204    0        0      162      0   \n",
      "179   63    1  3.000000       130   254    0        2      147      0   \n",
      "121   51    0  2.000000       140   308    0        2      142      0   \n",
      "42    55    0  1.000000       132   342    0        0      166      0   \n",
      "56    45    0  1.000000       130   234    0        2      175      0   \n",
      "5     64    1  2.158249       170   227    0        2      155      0   \n",
      "6     63    1  2.158249       145   233    1        2      150      0   \n",
      "139   44    1  2.000000       130   233    0        0      179      1   \n",
      "193   61    0  3.000000       145   307    0        2      146      1   \n",
      "201   60    0  3.000000       150   258    0        2      157      0   \n",
      "241   55    1  3.000000       160   289    0        2      145      1   \n",
      "106   56    1  2.000000       130   256    1        2      142      1   \n",
      "84    65    0  2.000000       155   269    0        0      148      0   \n",
      "107   54    1  2.000000       125   273    0        2      152      0   \n",
      "10    59    1  2.158249       170   288    0        2      159      0   \n",
      "267   48    1  3.000000       124   274    0        2      166      0   \n",
      "185   62    0  3.000000       140   268    0        2      160      0   \n",
      "219   58    0  3.000000       170   225    1        2      146      1   \n",
      "259   51    0  3.000000       130   305    0        0      142      1   \n",
      "143   43    1  2.000000       130   315    0        0      162      0   \n",
      "64    41    0  1.000000       130   204    0        2      172      0   \n",
      "13    58    0  2.158249       150   283    1        2      162      0   \n",
      "51    49    1  1.000000       130   266    0        0      171      0   \n",
      "16    52    1  2.158249       152   298    1        0      178      0   \n",
      "122   51    0  2.000000       130   256    0        2      149      0   \n",
      "142   43    0  2.000000       122   213    0        0      165      0   \n",
      "136   46    1  2.000000       150   231    0        0      147      0   \n",
      "47    52    1  1.000000       134   201    0        0      158      0   \n",
      "202   60    1  3.000000       140   293    0        2      170      0   \n",
      "204   60    1  3.000000       130   253    0        0      144      1   \n",
      "262   51    1  3.000000       140   299    0        0      173      1   \n",
      "24    71    0  1.000000       160   302    0        0      162      0   \n",
      "190   62    0  3.000000       150   244    0        0      154      1   \n",
      "75    69    1  2.000000       140   254    0        2      146      0   \n",
      "147   41    1  2.000000       130   214    0        2      168      0   \n",
      "100   58    1  2.000000       132   224    0        2      173      0   \n",
      "40    55    0  1.000000       135   250    0        2      161      0   \n",
      "119   51    1  2.000000       125   245    1        2      166      0   \n",
      "126   50    1  2.000000       140   233    0        0      163      0   \n",
      "249   54    1  3.000000       140   239    0        0      160      0   \n",
      "251   53    0  3.000000       130   264    0        2      143      0   \n",
      "200   60    1  3.000000       125   258    0        2      141      1   \n",
      "207   59    1  3.000000       135   234    0        0      161      0   \n",
      "188   62    0  3.000000       140   394    0        2      157      0   \n",
      "162   67    1  3.000000       125   254    1        0      163      0   \n",
      "85    65    0  2.000000       160   360    0        2      151      0   \n",
      "285   43    1  3.000000       150   247    0        0      171      0   \n",
      "76    68    1  2.000000       180   274    1        2      150      1   \n",
      "250   53    1  3.000000       140   203    1        2      155      1   \n",
      "34    57    1  1.000000       124   261    0        0      141      0   \n",
      "\n",
      "     oldpeak  slope  ca  thal  \n",
      "12       0.8      0   2     0  \n",
      "179      1.4      1   1     2  \n",
      "121      1.5      0   1     0  \n",
      "42       1.2      0   0     0  \n",
      "56       0.6      1   0     0  \n",
      "5        0.6      1   0     2  \n",
      "6        2.3      2   0     1  \n",
      "139      0.4      0   0     0  \n",
      "193      1.0      1   0     2  \n",
      "201      2.6      1   2     2  \n",
      "241      0.8      1   1     2  \n",
      "106      0.6      1   1     1  \n",
      "84       0.8      0   0     0  \n",
      "107      0.5      2   1     0  \n",
      "10       0.2      1   0     2  \n",
      "267      0.5      1   0     2  \n",
      "185      3.6      2   2     0  \n",
      "219      2.8      1   2     1  \n",
      "259      1.2      1   0     2  \n",
      "143      1.9      0   1     0  \n",
      "64       1.4      0   0     0  \n",
      "13       1.0      0   0     0  \n",
      "51       0.6      0   0     0  \n",
      "16       1.2      1   0     2  \n",
      "122      0.5      0   0     0  \n",
      "142      0.2      1   0     0  \n",
      "136      3.6      1   0     0  \n",
      "47       0.8      0   1     0  \n",
      "202      1.2      1   2     2  \n",
      "204      1.4      0   1     2  \n",
      "262      1.6      0   0     2  \n",
      "24       0.4      0   2     0  \n",
      "190      1.4      1   0     0  \n",
      "75       2.0      1   3     2  \n",
      "147      2.0      1   0     0  \n",
      "100      3.2      0   2     2  \n",
      "40       1.4      1   0     0  \n",
      "119      2.4      1   0     0  \n",
      "126      0.6      1   1     2  \n",
      "249      1.2      0   0     0  \n",
      "251      0.4      1   0     0  \n",
      "200      2.8      1   1     2  \n",
      "207      0.5      1   0     2  \n",
      "188      1.2      1   0     0  \n",
      "162      0.2      1   2     2  \n",
      "85       0.8      0   0     0  \n",
      "285      1.5      0   0     0  \n",
      "76       1.6      1   0     2  \n",
      "250      3.1      2   0     2  \n",
      "34       0.3      0   0     2  \n"
     ]
    }
   ],
   "source": [
    "print (X_train)"
   ]
  },
  {
   "cell_type": "code",
   "execution_count": 267,
   "id": "42bb2f49-157d-43fb-9d33-a53efcc08fa9",
   "metadata": {},
   "outputs": [
    {
     "name": "stdout",
     "output_type": "stream",
     "text": [
      "199    1\n",
      "90     0\n",
      "37     0\n",
      "1      0\n",
      "19     0\n",
      "3      1\n",
      "97     0\n",
      "276    0\n",
      "7      1\n",
      "258    1\n",
      "80     1\n",
      "8      0\n",
      "167    1\n",
      "103    1\n",
      "111    0\n",
      "236    1\n",
      "9      0\n",
      "Name: condition, dtype: int64\n"
     ]
    }
   ],
   "source": [
    "print (Y_test)"
   ]
  },
  {
   "cell_type": "code",
   "execution_count": 304,
   "id": "0d974bc3-8134-4585-9c04-86f5918838e1",
   "metadata": {},
   "outputs": [],
   "source": [
    "# 5. ENTRENAR MODELO CONFIGURANDO DIFERENTES HIPERPARÁMETROS"
   ]
  },
  {
   "cell_type": "code",
   "execution_count": 308,
   "id": "1dfcddee-45e5-4e1a-ac7f-37cd46a1c902",
   "metadata": {},
   "outputs": [],
   "source": [
    "modelo_regresion = LogisticRegression ( solver = \"liblinear\") # Grupo de librerías para solución de problemas lineales de clasificación y regresión\n",
    "modelo_regresion.fit (X_train , Y_train)\n",
    "\n",
    "# Se crea el modelo de predicción\n",
    "Prediccion = modelo_regresion.predict(X_test) # con esta funcion se espera predecir los valores a partir del conjunto de datos de validación"
   ]
  },
  {
   "cell_type": "code",
   "execution_count": 316,
   "id": "90660f47-6702-49dc-8645-5bb7bbe9b2f4",
   "metadata": {},
   "outputs": [
    {
     "data": {
      "text/html": [
       "<div>\n",
       "<style scoped>\n",
       "    .dataframe tbody tr th:only-of-type {\n",
       "        vertical-align: middle;\n",
       "    }\n",
       "\n",
       "    .dataframe tbody tr th {\n",
       "        vertical-align: top;\n",
       "    }\n",
       "\n",
       "    .dataframe thead th {\n",
       "        text-align: right;\n",
       "    }\n",
       "</style>\n",
       "<table border=\"1\" class=\"dataframe\">\n",
       "  <thead>\n",
       "    <tr style=\"text-align: right;\">\n",
       "      <th></th>\n",
       "      <th>age</th>\n",
       "      <th>sex</th>\n",
       "      <th>cp</th>\n",
       "      <th>trestbps</th>\n",
       "      <th>chol</th>\n",
       "      <th>fbs</th>\n",
       "      <th>restecg</th>\n",
       "      <th>thalach</th>\n",
       "      <th>exang</th>\n",
       "      <th>oldpeak</th>\n",
       "      <th>slope</th>\n",
       "      <th>ca</th>\n",
       "      <th>thal</th>\n",
       "    </tr>\n",
       "  </thead>\n",
       "  <tbody>\n",
       "    <tr>\n",
       "      <th>199</th>\n",
       "      <td>60</td>\n",
       "      <td>1</td>\n",
       "      <td>3.000000</td>\n",
       "      <td>145</td>\n",
       "      <td>282</td>\n",
       "      <td>0</td>\n",
       "      <td>2</td>\n",
       "      <td>142</td>\n",
       "      <td>1</td>\n",
       "      <td>2.8</td>\n",
       "      <td>1</td>\n",
       "      <td>2</td>\n",
       "      <td>2</td>\n",
       "    </tr>\n",
       "    <tr>\n",
       "      <th>90</th>\n",
       "      <td>62</td>\n",
       "      <td>1</td>\n",
       "      <td>2.000000</td>\n",
       "      <td>130</td>\n",
       "      <td>231</td>\n",
       "      <td>0</td>\n",
       "      <td>0</td>\n",
       "      <td>146</td>\n",
       "      <td>0</td>\n",
       "      <td>1.8</td>\n",
       "      <td>1</td>\n",
       "      <td>3</td>\n",
       "      <td>2</td>\n",
       "    </tr>\n",
       "    <tr>\n",
       "      <th>37</th>\n",
       "      <td>56</td>\n",
       "      <td>0</td>\n",
       "      <td>1.000000</td>\n",
       "      <td>140</td>\n",
       "      <td>294</td>\n",
       "      <td>0</td>\n",
       "      <td>2</td>\n",
       "      <td>153</td>\n",
       "      <td>0</td>\n",
       "      <td>1.3</td>\n",
       "      <td>1</td>\n",
       "      <td>0</td>\n",
       "      <td>0</td>\n",
       "    </tr>\n",
       "    <tr>\n",
       "      <th>1</th>\n",
       "      <td>69</td>\n",
       "      <td>0</td>\n",
       "      <td>2.158249</td>\n",
       "      <td>140</td>\n",
       "      <td>239</td>\n",
       "      <td>0</td>\n",
       "      <td>0</td>\n",
       "      <td>151</td>\n",
       "      <td>0</td>\n",
       "      <td>1.8</td>\n",
       "      <td>0</td>\n",
       "      <td>2</td>\n",
       "      <td>0</td>\n",
       "    </tr>\n",
       "    <tr>\n",
       "      <th>19</th>\n",
       "      <td>42</td>\n",
       "      <td>1</td>\n",
       "      <td>2.158249</td>\n",
       "      <td>148</td>\n",
       "      <td>244</td>\n",
       "      <td>0</td>\n",
       "      <td>2</td>\n",
       "      <td>178</td>\n",
       "      <td>0</td>\n",
       "      <td>0.8</td>\n",
       "      <td>0</td>\n",
       "      <td>2</td>\n",
       "      <td>0</td>\n",
       "    </tr>\n",
       "    <tr>\n",
       "      <th>3</th>\n",
       "      <td>65</td>\n",
       "      <td>1</td>\n",
       "      <td>2.158249</td>\n",
       "      <td>138</td>\n",
       "      <td>282</td>\n",
       "      <td>1</td>\n",
       "      <td>2</td>\n",
       "      <td>174</td>\n",
       "      <td>0</td>\n",
       "      <td>1.4</td>\n",
       "      <td>1</td>\n",
       "      <td>1</td>\n",
       "      <td>0</td>\n",
       "    </tr>\n",
       "    <tr>\n",
       "      <th>97</th>\n",
       "      <td>59</td>\n",
       "      <td>1</td>\n",
       "      <td>2.000000</td>\n",
       "      <td>150</td>\n",
       "      <td>212</td>\n",
       "      <td>1</td>\n",
       "      <td>0</td>\n",
       "      <td>157</td>\n",
       "      <td>0</td>\n",
       "      <td>1.6</td>\n",
       "      <td>0</td>\n",
       "      <td>0</td>\n",
       "      <td>0</td>\n",
       "    </tr>\n",
       "    <tr>\n",
       "      <th>276</th>\n",
       "      <td>45</td>\n",
       "      <td>0</td>\n",
       "      <td>3.000000</td>\n",
       "      <td>138</td>\n",
       "      <td>236</td>\n",
       "      <td>0</td>\n",
       "      <td>2</td>\n",
       "      <td>152</td>\n",
       "      <td>1</td>\n",
       "      <td>0.2</td>\n",
       "      <td>1</td>\n",
       "      <td>0</td>\n",
       "      <td>0</td>\n",
       "    </tr>\n",
       "    <tr>\n",
       "      <th>7</th>\n",
       "      <td>61</td>\n",
       "      <td>1</td>\n",
       "      <td>2.158249</td>\n",
       "      <td>134</td>\n",
       "      <td>234</td>\n",
       "      <td>0</td>\n",
       "      <td>0</td>\n",
       "      <td>145</td>\n",
       "      <td>0</td>\n",
       "      <td>2.6</td>\n",
       "      <td>1</td>\n",
       "      <td>2</td>\n",
       "      <td>0</td>\n",
       "    </tr>\n",
       "    <tr>\n",
       "      <th>258</th>\n",
       "      <td>52</td>\n",
       "      <td>1</td>\n",
       "      <td>3.000000</td>\n",
       "      <td>125</td>\n",
       "      <td>212</td>\n",
       "      <td>0</td>\n",
       "      <td>0</td>\n",
       "      <td>168</td>\n",
       "      <td>0</td>\n",
       "      <td>1.0</td>\n",
       "      <td>0</td>\n",
       "      <td>2</td>\n",
       "      <td>2</td>\n",
       "    </tr>\n",
       "  </tbody>\n",
       "</table>\n",
       "</div>"
      ],
      "text/plain": [
       "     age  sex        cp  trestbps  chol  fbs  restecg  thalach  exang  \\\n",
       "199   60    1  3.000000       145   282    0        2      142      1   \n",
       "90    62    1  2.000000       130   231    0        0      146      0   \n",
       "37    56    0  1.000000       140   294    0        2      153      0   \n",
       "1     69    0  2.158249       140   239    0        0      151      0   \n",
       "19    42    1  2.158249       148   244    0        2      178      0   \n",
       "3     65    1  2.158249       138   282    1        2      174      0   \n",
       "97    59    1  2.000000       150   212    1        0      157      0   \n",
       "276   45    0  3.000000       138   236    0        2      152      1   \n",
       "7     61    1  2.158249       134   234    0        0      145      0   \n",
       "258   52    1  3.000000       125   212    0        0      168      0   \n",
       "\n",
       "     oldpeak  slope  ca  thal  \n",
       "199      2.8      1   2     2  \n",
       "90       1.8      1   3     2  \n",
       "37       1.3      1   0     0  \n",
       "1        1.8      0   2     0  \n",
       "19       0.8      0   2     0  \n",
       "3        1.4      1   1     0  \n",
       "97       1.6      0   0     0  \n",
       "276      0.2      1   0     0  \n",
       "7        2.6      1   2     0  \n",
       "258      1.0      0   2     2  "
      ]
     },
     "execution_count": 316,
     "metadata": {},
     "output_type": "execute_result"
    }
   ],
   "source": [
    "X_test.head(10)"
   ]
  },
  {
   "cell_type": "code",
   "execution_count": 318,
   "id": "35e09f9c-7ee5-4be0-b852-a4523ef22008",
   "metadata": {},
   "outputs": [
    {
     "name": "stdout",
     "output_type": "stream",
     "text": [
      "[1 1 0 1 0 0 0 0 1 1 1 0 1 1 1 1 1]\n"
     ]
    }
   ],
   "source": [
    "print (Prediccion)"
   ]
  },
  {
   "cell_type": "code",
   "execution_count": 312,
   "id": "ff96fc76-9953-49b6-b06f-3fc6f0122500",
   "metadata": {},
   "outputs": [],
   "source": [
    "# 6. Evaluar el desempeño del modelo en el conjunto de Test con métricas como precisión, recall, F1-score, etc."
   ]
  },
  {
   "cell_type": "code",
   "execution_count": 314,
   "id": "0f01d8a8-8425-41d4-a48b-d47341411928",
   "metadata": {},
   "outputs": [
    {
     "name": "stdout",
     "output_type": "stream",
     "text": [
      "              precision    recall  f1-score   support\n",
      "\n",
      "           0       0.83      0.56      0.67         9\n",
      "           1       0.64      0.88      0.74         8\n",
      "\n",
      "    accuracy                           0.71        17\n",
      "   macro avg       0.73      0.72      0.70        17\n",
      "weighted avg       0.74      0.71      0.70        17\n",
      "\n"
     ]
    }
   ],
   "source": [
    "#Desempeño del modelo de regresión \n",
    "\n",
    "print(classification_report(Y_test,Prediccion))\n",
    "\n",
    "# Indíca en valores de 0 a 1 que tan precisa puede estar la predicción en cada métrica"
   ]
  },
  {
   "cell_type": "code",
   "execution_count": 320,
   "id": "fd8fa75e-fb96-477b-a996-a5f13107aff5",
   "metadata": {},
   "outputs": [],
   "source": [
    "# 7. Realizar las diferentes gráficas"
   ]
  },
  {
   "cell_type": "code",
   "execution_count": 330,
   "id": "411bc9a9-0622-4708-8219-18c904ca80ab",
   "metadata": {},
   "outputs": [
    {
     "data": {
      "text/plain": [
       "<sklearn.metrics._plot.confusion_matrix.ConfusionMatrixDisplay at 0x1c4acfa4b30>"
      ]
     },
     "execution_count": 330,
     "metadata": {},
     "output_type": "execute_result"
    },
    {
     "data": {
      "image/png": "[encoded data removed]",
      "text/plain": [
       "<Figure size 640x480 with 2 Axes>"
      ]
     },
     "metadata": {},
     "output_type": "display_data"
    }
   ],
   "source": [
    "# Matriz de confusión del modelo\n",
    "\n",
    "cm=confusion_matrix(Y_test,Prediccion)\n",
    "disp=metrics.ConfusionMatrixDisplay(confusion_matrix=cm)\n",
    "disp.plot()\n",
    "\n",
    "# Comparación del modelo del test con la predicción estimada para verificar que esté correcto"
   ]
  },
  {
   "cell_type": "code",
   "execution_count": 334,
   "id": "0c1b5d5c-7496-4095-a0f8-c80d9aa75a26",
   "metadata": {},
   "outputs": [],
   "source": [
    "# Verdaderos positivos: 0/0 de 5 registro. Se predijo que no tendrían problemas cardiacos, y no los tuvieron, acertando 5 veces.\n",
    "# Falsos positivos: 1/0 de 1 registro. Se estimaba que en un registro 1 persona no tenía problemas cardiacos, pero si los tuvo.\n",
    "# Verdaderos negativos: 1/1 de 7 registros. De 7 personas que se estimaban que podrían tener problemas cardiacos, las 7 personas efectivamente tuvieron.\n",
    "# Falsos negativos: 0/1 de 4 registros. De 4 personas que se decían que tenían problemas cardiacos estas 4 personas no tenían diabetes\n",
    "\n",
    "# Con relación a la representación de la barra de la derecha es posible evidenciar un acierto del modelo y unos niveles predictivos considerablemente\n",
    "# aceptables, aunque al ser el dataset algo inferior en cantidad, muestra comportamientos bastante cercanos que podrían ser precidos con cambios\n",
    "# en la cantidad de datos que pueda suministrar determinada BD o el procentarje de train diferente al 25% evaluado en este ejercicio."
   ]
  },
  {
   "cell_type": "code",
   "execution_count": 328,
   "id": "ef34c03c-59d8-4465-80ce-daa03b1869a0",
   "metadata": {},
   "outputs": [
    {
     "data": {
      "image/png": "[encoded data removed]",
      "text/plain": [
       "<Figure size 640x480 with 1 Axes>"
      ]
     },
     "metadata": {},
     "output_type": "display_data"
    }
   ],
   "source": [
    "# curva de precisión del modelo\n",
    "\n",
    "from sklearn.metrics import RocCurveDisplay\n",
    "RocCurveDisplay.from_predictions(Y_test, Prediccion)\n",
    "plt.show()"
   ]
  },
  {
   "cell_type": "code",
   "execution_count": 342,
   "id": "7655ff56-c11b-40f1-996d-01362b884702",
   "metadata": {},
   "outputs": [],
   "source": [
    "# El nivel del procisión del modelo se presenta bastante alto a comparación de lo esperado en el área de falsos positivos\n",
    "# con un 72% de área bajo la curva, el sistema fue capáz de acercar en las condiciones suministradas, por lo que un buen indicio sería que para casos médicos es un modelo\n",
    "# de estudio diable que puede ser destinado en el sector médica para hallazgo de enfermedades tempranas según algúnos sintomas hallados\n",
    "# en el paciente.\n",
    "\n"
   ]
  },
  {
   "cell_type": "code",
   "execution_count": 336,
   "id": "b677ef99-85c0-4d1d-a51f-91fd0ffb7a09",
   "metadata": {},
   "outputs": [],
   "source": [
    "# 8. Interpretar, análizar y documentar los resultados obtenidos."
   ]
  },
  {
   "cell_type": "code",
   "execution_count": 340,
   "id": "0920494e-74a3-4dcd-ad61-6de730f44de4",
   "metadata": {},
   "outputs": [],
   "source": [
    "# Es posible decribir que:\n",
    "\n",
    "# En su nivel de precisión se evidencia una efectividad del 0,72, lo que significa que mayormente los casos de estudio de pacientes bajo sospecha\n",
    "# de enfermedades cardiacas pueden que en sus resultados den positivos para tener algún tipo de enfermedad.\n",
    "\n",
    "# El recall con un nivel del 0,83 por lo que en comparación de los datos reales utilizados ha tenido un acierto consdierablemente alto, identificando\n",
    "# de forma correcta aquellos pacientes que sufren de problemas en el corazón.\n",
    "\n",
    "# Su F1 Score con un total de 0.56, esto podría estar indicando en el modelo es que su nivel de precisión por lo menos asegura ligeramente más de la\n",
    "# mitad en el acierto, teniendo un nivel considerablemente balanceado entre la presición y el recall\n",
    "\n",
    "#precision    recall  f1-score   support\n",
    "\n",
    "#          0       0.83      0.56      0.67         9\n",
    "#          1       0.64      0.88      0.74         8\n",
    "\n",
    "#    accuracy                           0.71        17\n",
    "#   macro avg       0.73      0.72      0.70        17\n",
    "# weighted avg       0.74      0.71      0.70        17"
   ]
  },
  {
   "cell_type": "code",
   "execution_count": null,
   "id": "4b26b480-58f0-4afe-96bf-0169a9945662",
   "metadata": {},
   "outputs": [],
   "source": []
  }
 ],
 "metadata": {
  "kernelspec": {
   "display_name": "Python [conda env:base] *",
   "language": "python",
   "name": "conda-base-py"
  },
  "language_info": {
   "codemirror_mode": {
    "name": "ipython",
    "version": 3
   },
   "file_extension": ".py",
   "mimetype": "text/x-python",
   "name": "python",
   "nbconvert_exporter": "python",
   "pygments_lexer": "ipython3",
   "version": "3.12.7"
  }
 },
 "nbformat": 4,
 "nbformat_minor": 5
}
